{
  "cells": [
    {
      "cell_type": "markdown",
      "id": "556b760c-47e4-4dd9-bc35-6fe2764fbe25",
      "metadata": {
        "id": "556b760c-47e4-4dd9-bc35-6fe2764fbe25"
      },
      "source": [
        "# LOCALIZATION SYSTEMS – Positioning with Inertial Measurement Units (Practice 3)\n",
        "\n",
        "To run this practice using Google's collab, follow this link [![Open In Colab](https://colab.research.google.com/assets/colab-badge.svg)](https://colab.research.google.com/github/mgfernan/gsl_uab/blob/main/p3_GNSS_IMU.ipynb)\n",
        "\n",
        "In this practice, we will focus on the fundamentals of positioning based on Inertial Measurement Units (IMU). We will compute the position by integrating the acceleration given by the IMU sensor.\n"
      ]
    },
    {
      "cell_type": "code",
      "execution_count": 1,
      "id": "3f462edc-25ea-42f5-8dc1-9aaded3e4939",
      "metadata": {
        "id": "3f462edc-25ea-42f5-8dc1-9aaded3e4939"
      },
      "outputs": [],
      "source": [
        "# Add required libraries\n",
        "import pandas as pd\n",
        "import matplotlib.pyplot as plt"
      ]
    },
    {
      "cell_type": "markdown",
      "id": "5e6f97d4",
      "metadata": {},
      "source": [
        "Download the necessary files for this practice"
      ]
    },
    {
      "cell_type": "code",
      "execution_count": null,
      "id": "a238cf3b",
      "metadata": {},
      "outputs": [],
      "source": [
        "# Download necessary files\n",
        "import requests\n",
        "\n",
        "for file_name in ['data.csv', 'trajectory.csv']:\n",
        "  url = f\"https://github.com/mgfernan/gsl_uab/raw/main/data/{file_name}\"\n",
        "\n",
        "  response = requests.get(url)\n",
        "  if response.status_code == 200:\n",
        "      with open(file_name, 'wb') as file:\n",
        "          file.write(response.content)\n",
        "      print(f\"File '{file_name}' downloaded successfully.\")\n",
        "  else:\n",
        "      print(f\"Failed to download the file. Status code: {response.status_code}\")"
      ]
    },
    {
      "cell_type": "markdown",
      "id": "aae59718-8d97-42df-9ac6-836b25eb0072",
      "metadata": {
        "id": "aae59718-8d97-42df-9ac6-836b25eb0072"
      },
      "source": [
        "## Short tutorial on `pandas`\n",
        "\n",
        "Pandas is a powerful Python library for data manipulation and analysis. It provides data structures and functions needed to work with structured data seamlessly. In this tutorial, we'll cover some fundamental aspects of Pandas.\n",
        "\n",
        "### Creating a DataFrame\n",
        "\n",
        "A DataFrame is a two-dimensional labeled data structure with columns that can be of different types. You can create a DataFrame using various methods, such as from dictionaries, lists, or reading data from files."
      ]
    },
    {
      "cell_type": "code",
      "execution_count": null,
      "id": "6633b041-f24d-4fa9-a396-c49fca87bb8f",
      "metadata": {
        "colab": {
          "base_uri": "https://localhost:8080/"
        },
        "id": "6633b041-f24d-4fa9-a396-c49fca87bb8f",
        "outputId": "9c838a31-1926-472e-fc5f-3e9a38a80e75"
      },
      "outputs": [],
      "source": [
        "# Create a DataFrame from a dictionary\n",
        "data = {'Name': ['Alice', 'Bob', 'Charlie'],\n",
        "        'Age': [25, 30, 22]}\n",
        "df = pd.DataFrame(data)\n",
        "\n",
        "# Display the DataFrame\n",
        "print(df)\n"
      ]
    },
    {
      "cell_type": "markdown",
      "id": "512dd14a-5640-4eea-9e47-ad40ad6308a4",
      "metadata": {
        "id": "512dd14a-5640-4eea-9e47-ad40ad6308a4"
      },
      "source": [
        "### Reading Data from a CSV File\n",
        "\n",
        "Pandas makes it easy to read data from various file formats, such as CSV, Excel, SQL databases, etc. Here's how you can read data from a CSV file.\n",
        "\n",
        "**Note**: You will have to upload the [`data.csv` file](https://raw.githubusercontent.com/mgfernan/gsl_uab/main/data/data.csv) from the Github repository to the Colab workspace  "
      ]
    },
    {
      "cell_type": "code",
      "execution_count": null,
      "id": "5e2a579b-ad67-46f0-836d-4fd585a70db9",
      "metadata": {
        "colab": {
          "base_uri": "https://localhost:8080/"
        },
        "id": "5e2a579b-ad67-46f0-836d-4fd585a70db9",
        "outputId": "b15c27d3-e298-4027-b51f-bd163a6e7ba5"
      },
      "outputs": [],
      "source": [
        "# Read data from a CSV file\n",
        "file_path = 'data.csv'\n",
        "df = pd.read_csv(file_path)\n",
        "\n",
        "# Display the first few rows of the DataFrame\n",
        "print(df.head())\n"
      ]
    },
    {
      "cell_type": "markdown",
      "id": "93fa0797-ef69-487e-8ac1-edfc7e4b54e7",
      "metadata": {
        "id": "93fa0797-ef69-487e-8ac1-edfc7e4b54e7"
      },
      "source": [
        "### Basic DataFrame Operations\n",
        "\n",
        "Pandas offers numerous functions to manipulate and analyze data:"
      ]
    },
    {
      "cell_type": "code",
      "execution_count": null,
      "id": "f999b47f-2e19-4afc-b865-f8487b2de011",
      "metadata": {
        "colab": {
          "base_uri": "https://localhost:8080/"
        },
        "id": "f999b47f-2e19-4afc-b865-f8487b2de011",
        "outputId": "7429573b-a98f-40ba-c18e-574ebc71e9f4"
      },
      "outputs": [],
      "source": [
        "# Selecting a column\n",
        "ages = df['Age']\n",
        "print(ages)"
      ]
    },
    {
      "cell_type": "code",
      "execution_count": null,
      "id": "4515c45d-1e1b-434c-9833-7a81173b9eca",
      "metadata": {
        "colab": {
          "base_uri": "https://localhost:8080/"
        },
        "id": "4515c45d-1e1b-434c-9833-7a81173b9eca",
        "outputId": "30f6cdd0-55d5-40f3-d2e8-2df4e27c3bd5"
      },
      "outputs": [],
      "source": [
        "# Filtering rows\n",
        "young_people = df[df['Age'] < 30]\n",
        "print(young_people)"
      ]
    },
    {
      "cell_type": "code",
      "execution_count": null,
      "id": "008c44a4-a625-4fd8-8b4f-264f50a0ba67",
      "metadata": {
        "colab": {
          "base_uri": "https://localhost:8080/"
        },
        "id": "008c44a4-a625-4fd8-8b4f-264f50a0ba67",
        "outputId": "0eca5a8c-f41b-4fe2-b848-a2ca3a4b8f0f"
      },
      "outputs": [],
      "source": [
        "# Adding a new column\n",
        "df['Gender'] = ['F', 'M', 'M', 'M', 'F']\n",
        "print(df)"
      ]
    },
    {
      "cell_type": "code",
      "execution_count": null,
      "id": "a39f1006-77cd-41b6-8751-4036f35bec9a",
      "metadata": {
        "colab": {
          "base_uri": "https://localhost:8080/"
        },
        "id": "a39f1006-77cd-41b6-8751-4036f35bec9a",
        "outputId": "f37c76bb-19db-4977-a369-c80155a34348"
      },
      "outputs": [],
      "source": [
        "# Grouping and aggregation\n",
        "grouped = df.groupby('Gender').mean()\n",
        "print(grouped)"
      ]
    },
    {
      "cell_type": "code",
      "execution_count": null,
      "id": "9b930306-fe1c-4627-ab56-0b65e2e6d6f8",
      "metadata": {
        "colab": {
          "base_uri": "https://localhost:8080/"
        },
        "id": "9b930306-fe1c-4627-ab56-0b65e2e6d6f8",
        "outputId": "1b6a1632-3ad7-44f7-f541-4faec0743547"
      },
      "outputs": [],
      "source": [
        "# Sorting\n",
        "sorted_df = df.sort_values(by='Age', ascending=False)\n",
        "print(sorted_df)"
      ]
    },
    {
      "cell_type": "markdown",
      "id": "99b43a37-3823-47f7-937f-53734df16cc2",
      "metadata": {
        "id": "99b43a37-3823-47f7-937f-53734df16cc2"
      },
      "source": [
        "### Data Visualization\n",
        "\n",
        "Albeit Pandas also provides basic plotting capabilities using the `plot()` function, you can also use `matplotlib` for this\n",
        "purpose, which will give you more flexibility"
      ]
    },
    {
      "cell_type": "code",
      "execution_count": null,
      "id": "ad5a1540-9c1d-4b78-a0b8-4a8eaf73d6b2",
      "metadata": {
        "colab": {
          "base_uri": "https://localhost:8080/",
          "height": 447
        },
        "id": "ad5a1540-9c1d-4b78-a0b8-4a8eaf73d6b2",
        "outputId": "3204985c-2e93-4560-86c4-18b53a9e2567"
      },
      "outputs": [],
      "source": [
        "# Plotting a bar chart\n",
        "plt.bar(df['Name'], df['Age'])"
      ]
    },
    {
      "cell_type": "markdown",
      "id": "e0aa8ad0-fce5-438d-b9d7-d0b515e5ac82",
      "metadata": {
        "id": "e0aa8ad0-fce5-438d-b9d7-d0b515e5ac82"
      },
      "source": [
        "## Practice exercises"
      ]
    },
    {
      "cell_type": "markdown",
      "id": "41022960-a41f-475b-8eb3-6e859f2278a3",
      "metadata": {
        "id": "41022960-a41f-475b-8eb3-6e859f2278a3"
      },
      "source": [
        "**Exercise 1: data load**\n",
        "\n",
        "**Using pandas, read the file `trajectory.csv` that contains the position and acceleration into a `DataFrame` structure**\n",
        "\n",
        "![Trajectory](./assets/trajectory.png)\n",
        "\n",
        "**Tip**: Use the Pandas `read_csv` method\n",
        "\n",
        "Answer the following questions:\n",
        "\n",
        "1. What are the magnitudes (columns) contained in the `DataFrame`? Describe them briefly in one short sentence.\n",
        "1. How many epochs does the file contain?\n",
        "1. What is the sampling rate of the data file?"
      ]
    },
    {
      "cell_type": "markdown",
      "id": "3e616394-84cf-44b3-b54b-d0372de9fd78",
      "metadata": {
        "id": "3e616394-84cf-44b3-b54b-d0372de9fd78"
      },
      "source": [
        "**Exercise 2: plotting**\n",
        "\n",
        "**Use matplotlib to plot the horizontal (i.e. North vs East) trajectory**\n",
        "\n",
        "**Tip:** Use the `plt.plot` method\n",
        "\n",
        "Answer the following questions:\n",
        "\n",
        "1. What do you see in the plot?\n",
        "1. How long is the trajectory in the East component, approximately? And in the North component?\n",
        "\n"
      ]
    },
    {
      "cell_type": "markdown",
      "id": "b914d851-5390-49d1-9960-86e2cabd4646",
      "metadata": {
        "id": "b914d851-5390-49d1-9960-86e2cabd4646"
      },
      "source": [
        "**Exercise 3: Availability and Continuity**\n",
        "\n",
        "Answer the following questions:\n",
        "\n",
        "1. Is the trajectory **available** all the time? If not, what are the typical causes for lack of availability in a positioning system based on GNSS? How can it be solved?\n",
        "1. Compute the **availability** (in percentage) of the position? Tip: you will need to check the number of positions (either East or North) that are valid (i.e. not NaN) using the pandas method `isna()`.\n",
        "1. Plot the time difference for the valid points. Can this be related to the trajectory plot? How many data gaps do you have in the trajectory? which sizes approximately? Tip: compute the epoch difference for the valid points"
      ]
    },
    {
      "cell_type": "markdown",
      "id": "5fa1f720-92ef-4acb-8173-5edba5ad7854",
      "metadata": {
        "id": "5fa1f720-92ef-4acb-8173-5edba5ad7854"
      },
      "source": [
        "**Exercise 4: Trajectory reconstruction**\n",
        "\n",
        "In this exercise we will use the acceleration to reconstruct the position at the missing parts, just in the same way as the IMU help GNSS in parts of the route where GNSS is not available.\n",
        "\n",
        "For this exercise you will need the following method"
      ]
    },
    {
      "cell_type": "code",
      "execution_count": null,
      "id": "a439751f-ba57-465c-9ddf-165c9e64bd45",
      "metadata": {
        "id": "a439751f-ba57-465c-9ddf-165c9e64bd45"
      },
      "outputs": [],
      "source": [
        "import math\n",
        "\n",
        "def integrate_trajectory(epochs, positions, accelerations):\n",
        "\n",
        "    dts = epochs.diff()\n",
        "\n",
        "    out = []\n",
        "    for dt, pos, accel in zip(dts, positions, accelerations):\n",
        "\n",
        "        if math.isnan(pos):\n",
        "            prev_velocity = (out[-1] - out[-2]) / dt\n",
        "            velocity = prev_velocity + accel * dt\n",
        "            position = position + velocity * dt\n",
        "\n",
        "        else:\n",
        "            position = pos\n",
        "\n",
        "        out.append(position)\n",
        "\n",
        "    return out\n"
      ]
    },
    {
      "cell_type": "markdown",
      "id": "ced97677-ed27-481b-8d0c-c44a96428ea6",
      "metadata": {
        "id": "ced97677-ed27-481b-8d0c-c44a96428ea6"
      },
      "source": [
        "Answer the following questions:\n",
        "\n",
        "1. Have a look at the method `integrate_trajectory` and briefly describe what it does\n",
        "1. Plot the acceleration in one of the components. Do we have gaps in this magnitude? Which is the **availability** of the acceleration?\n",
        "1. Compute the velocity at each point and plot it.\n",
        "1. Reconstruct (integrate) the trajectory with gaps to achieve 100% availability. Tip: use the `integrate_trajectory` method"
      ]
    },
    {
      "cell_type": "markdown",
      "id": "74b539f4-ee05-4fee-bb9d-a009c6c30e86",
      "metadata": {
        "id": "74b539f4-ee05-4fee-bb9d-a009c6c30e86"
      },
      "source": [
        "**Exercise 4: Trajectory reconstruction with biased accelerations**\n",
        "\n",
        "One of the main problems of IMU are the biases of the sensors, that need to be corrected during integration, otherwise\n",
        "the trajectory will be wrong as the errors accumulate in time.\n",
        "\n",
        "To check this effect, create two new acceleration time series with a constant bias of $0.1 m/s^2$ for the East component and $0.2 m/s^2$ for the North component. Repeat the steps 2 and 4 of Exercise 3 and describe what do you see in the resulting plot (and the reason why)"
      ]
    }
  ],
  "metadata": {
    "colab": {
      "include_colab_link": true,
      "provenance": []
    },
    "kernelspec": {
      "display_name": "Python 3 (ipykernel)",
      "language": "python",
      "name": "python3"
    },
    "language_info": {
      "codemirror_mode": {
        "name": "ipython",
        "version": 3
      },
      "file_extension": ".py",
      "mimetype": "text/x-python",
      "name": "python",
      "nbconvert_exporter": "python",
      "pygments_lexer": "ipython3",
      "version": "3.9.10"
    }
  },
  "nbformat": 4,
  "nbformat_minor": 5
}

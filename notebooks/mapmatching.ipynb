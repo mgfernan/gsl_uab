{
  "nbformat": 4,
  "nbformat_minor": 0,
  "metadata": {
    "colab": {
      "name": "Mapmatching.ipynb",
      "provenance": [],
      "collapsed_sections": [],
      "include_colab_link": true
    },
    "kernelspec": {
      "name": "python3",
      "display_name": "Python 3"
    },
    "language_info": {
      "name": "python"
    }
  },
  "cells": [
    {
      "cell_type": "markdown",
      "metadata": {
        "id": "view-in-github",
        "colab_type": "text"
      },
      "source": [
        "<a href=\"https://colab.research.google.com/github/mgfernan/gsl_uab/blob/main/notebooks/mapmatching.ipynb\" target=\"_parent\"><img src=\"https://colab.research.google.com/assets/colab-badge.svg\" alt=\"Open In Colab\"/></a>"
      ]
    },
    {
      "cell_type": "markdown",
      "metadata": {
        "id": "m6cQUwlB3jBO"
      },
      "source": [
        "# Map-matching technique using online services\n",
        "\n",
        "This practice is a hands-on activity that allows the usage of online services in the cloud to process GNSS raw measurement data and perform a map-matching.\n",
        "\n",
        "## Jason\n",
        "\n",
        "[Jason](https://jason.rokubun.cat)\n",
        "\n",
        "[Jason Python bindings](https://pypi.org/project/jason-gnss/)\n",
        "\n",
        "## Mapbox map-matching API\n",
        "\n",
        "[Mapbox map-matching API](https://docs.mapbox.com/help/glossary/map-matching-api)\n",
        "\n",
        "\n",
        "\n",
        "\n",
        "---\n",
        "\n",
        "\n",
        "The first step we need to perform is to install several dependencies and import some Python packages "
      ]
    },
    {
      "cell_type": "code",
      "metadata": {
        "id": "iZHBJdXIZf_G"
      },
      "source": [
        "!pip install jason-gnss"
      ],
      "execution_count": null,
      "outputs": []
    },
    {
      "cell_type": "code",
      "metadata": {
        "id": "CEQsIvwLAIf5"
      },
      "source": [
        "import csv\n",
        "import os\n",
        "import requests\n",
        "import zipfile\n",
        "\n",
        "from jason_gnss import jason\n",
        "\n",
        "os.environ['JASON_API_KEY'] = '<api_key_from_jason_user_area>'\n",
        "os.environ['JASON_SECRET_TOKEN'] = '<token_from_jason_user_area>'"
      ],
      "execution_count": 23,
      "outputs": []
    },
    {
      "cell_type": "markdown",
      "metadata": {
        "id": "EGoRoJ6InFmy"
      },
      "source": [
        "\n",
        "Download sample datafile containing GNSS raw measurements"
      ]
    },
    {
      "cell_type": "code",
      "metadata": {
        "id": "GtquxcGj9oy2"
      },
      "source": [
        "gnss_data_sample='https://raw.githubusercontent.com/mgfernan/gsl_uab/main/map_matching/gnss_raw_measurements_smartphone_motorbike.rnx'\n",
        "r = requests.get(gnss_data_sample)\n",
        "\n",
        "rover_file = 'gnss_data_sample.rnx'\n",
        "with open(rover_file, 'w') as fh:\n",
        "  fh.write(r.content.decode('utf-8'))"
      ],
      "execution_count": 14,
      "outputs": []
    },
    {
      "cell_type": "code",
      "metadata": {
        "id": "eedxtxC1Aevn"
      },
      "source": [
        "result = jason.submit_process(rover_file)"
      ],
      "execution_count": 15,
      "outputs": []
    },
    {
      "cell_type": "code",
      "metadata": {
        "id": "ILU-74jKrG9u"
      },
      "source": [
        "process_id = result[0]['id']\n",
        "jason.get_status(process_id)"
      ],
      "execution_count": null,
      "outputs": []
    },
    {
      "cell_type": "code",
      "metadata": {
        "id": "kk0ZlWLDrQP7"
      },
      "source": [
        "# Wait for a while for the process to finish, then download the results\n",
        "result_file = jason.download_results(process_id)"
      ],
      "execution_count": 19,
      "outputs": []
    },
    {
      "cell_type": "code",
      "metadata": {
        "id": "mpKxA1Qcrtd1"
      },
      "source": [
        "with zipfile.ZipFile(result_file, 'r') as zip_ref:\n",
        "    zip_ref.extractall('./')"
      ],
      "execution_count": 20,
      "outputs": []
    },
    {
      "cell_type": "code",
      "metadata": {
        "id": "j-3jMVeTtgHp"
      },
      "source": [
        "csv_file = f'SPP/{rover_file}.rnx_position_SPP.csv'\n",
        "\n",
        "with open(csv_file, 'r') as fh:\n",
        "  rows = csv.DictReader(fh)\n",
        "\n",
        "  track = [(row['latitude(deg)'], row['longitude(deg)']) for row in rows]\n",
        "\n",
        "track"
      ],
      "execution_count": null,
      "outputs": []
    }
  ]
}
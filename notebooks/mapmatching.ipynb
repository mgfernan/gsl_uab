{
  "nbformat": 4,
  "nbformat_minor": 0,
  "metadata": {
    "colab": {
      "name": "Mapmatching.ipynb",
      "provenance": [],
      "collapsed_sections": [],
      "include_colab_link": true
    },
    "kernelspec": {
      "name": "python3",
      "display_name": "Python 3"
    },
    "language_info": {
      "name": "python"
    }
  },
  "cells": [
    {
      "cell_type": "markdown",
      "metadata": {
        "id": "view-in-github",
        "colab_type": "text"
      },
      "source": [
        "<a href=\"https://colab.research.google.com/github/mgfernan/gsl_uab/blob/main/notebooks/mapmatching.ipynb\" target=\"_parent\"><img src=\"https://colab.research.google.com/assets/colab-badge.svg\" alt=\"Open In Colab\"/></a>"
      ]
    },
    {
      "cell_type": "markdown",
      "metadata": {
        "id": "m6cQUwlB3jBO"
      },
      "source": [
        "# Map-matching technique using online services\n",
        "\n",
        "This practice is a hands-on activity that allows the usage of online services in the cloud to process GNSS raw measurement data and perform a map-matching.\n",
        "\n",
        "## Jason\n",
        "\n",
        "[Jason](https://jason.rokubun.cat)\n",
        "\n",
        "[Jason Python bindings](https://pypi.org/project/jason-gnss/)\n",
        "\n",
        "## Mapbox map-matching API\n",
        "\n",
        "[Mapbox map-matching API](https://docs.mapbox.com/help/glossary/map-matching-api)"
      ]
    },
    {
      "cell_type": "code",
      "metadata": {
        "id": "CEQsIvwLAIf5"
      },
      "source": [
        "import requests"
      ],
      "execution_count": 6,
      "outputs": []
    },
    {
      "cell_type": "code",
      "metadata": {
        "id": "GtquxcGj9oy2"
      },
      "source": [
        "gnss_data_sample='https://raw.githubusercontent.com/mgfernan/gsl_uab/main/map_matching/gnss_raw_measurements_smartphone_motorbike.txt'\n",
        "r = requests.get(gnss_data_sample)\n",
        "\n",
        "with open('gnss_data_sample.gnsslogger', 'w') as fh:\n",
        "  fh.write(r.content.decode('utf-8'))"
      ],
      "execution_count": 19,
      "outputs": []
    },
    {
      "cell_type": "code",
      "metadata": {
        "colab": {
          "base_uri": "https://localhost:8080/"
        },
        "id": "eedxtxC1Aevn",
        "outputId": "dbb05c8d-0bf6-4e4d-fbb3-43792c120768"
      },
      "source": [
        ""
      ],
      "execution_count": 20,
      "outputs": [
        {
          "output_type": "stream",
          "name": "stdout",
          "text": [
            "drive  gnss_data_sample.gnsslogger  sample_data\n"
          ]
        }
      ]
    },
    {
      "cell_type": "markdown",
      "metadata": {
        "id": "oS2cDswsZsHQ"
      },
      "source": [
        "## Instalation of paquets\n",
        "\n",
        "The following commands install dependencies to run this notebook"
      ]
    },
    {
      "cell_type": "code",
      "metadata": {
        "id": "iZHBJdXIZf_G"
      },
      "source": [
        "!pip install jason-gnss"
      ],
      "execution_count": null,
      "outputs": []
    },
    {
      "cell_type": "code",
      "metadata": {
        "colab": {
          "base_uri": "https://localhost:8080/"
        },
        "id": "SArJQzDFZIP_",
        "outputId": "29bbed5f-576d-4091-a875-ed67d4b36f24"
      },
      "source": [
        "1 + 1"
      ],
      "execution_count": null,
      "outputs": [
        {
          "output_type": "execute_result",
          "data": {
            "text/plain": [
              "2"
            ]
          },
          "metadata": {},
          "execution_count": 2
        }
      ]
    },
    {
      "cell_type": "code",
      "metadata": {
        "id": "IJTKgzYrZkX-",
        "colab": {
          "base_uri": "https://localhost:8080/"
        },
        "outputId": "e6daca49-5e4f-4231-cc40-e353bd4833a9"
      },
      "source": [
        "sampleText = 'he pogut accedir!'\n",
        "print(sampleText)"
      ],
      "execution_count": null,
      "outputs": [
        {
          "output_type": "stream",
          "name": "stdout",
          "text": [
            "he pogut accedir!\n"
          ]
        }
      ]
    },
    {
      "cell_type": "code",
      "metadata": {
        "id": "-HCUMbR9Zqz-"
      },
      "source": [
        ""
      ],
      "execution_count": null,
      "outputs": []
    },
    {
      "cell_type": "code",
      "metadata": {
        "id": "QVKIkSrXZufj"
      },
      "source": [
        ""
      ],
      "execution_count": null,
      "outputs": []
    }
  ]
}
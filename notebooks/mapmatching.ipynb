{
  "nbformat": 4,
  "nbformat_minor": 0,
  "metadata": {
    "colab": {
      "name": "Mapmatching.ipynb",
      "provenance": [],
      "collapsed_sections": [],
      "include_colab_link": true
    },
    "kernelspec": {
      "name": "python3",
      "display_name": "Python 3"
    },
    "language_info": {
      "name": "python"
    }
  },
  "cells": [
    {
      "cell_type": "markdown",
      "metadata": {
        "id": "view-in-github",
        "colab_type": "text"
      },
      "source": [
        "<a href=\"https://colab.research.google.com/github/mgfernan/gsl_uab/blob/main/notebooks/mapmatching.ipynb\" target=\"_parent\"><img src=\"https://colab.research.google.com/assets/colab-badge.svg\" alt=\"Open In Colab\"/></a>"
      ]
    },
    {
      "cell_type": "markdown",
      "metadata": {
        "id": "m6cQUwlB3jBO"
      },
      "source": [
        "# Map-matching technique using online services\n",
        "\n",
        "This practice is a hands-on activity that allows the usage of online services in the cloud to process GNSS raw measurement data and perform a map-matching.\n",
        "\n",
        "## Jason\n",
        "\n",
        "[Jason](https://jason.rokubun.cat)\n",
        "\n",
        "[Jason Python bindings](https://pypi.org/project/jason-gnss/)\n",
        "\n",
        "## Mapbox map-matching API\n",
        "\n",
        "[Mapbox map-matching API](https://docs.mapbox.com/help/glossary/map-matching-api)"
      ]
    },
    {
      "cell_type": "code",
      "metadata": {
        "id": "iZHBJdXIZf_G"
      },
      "source": [
        "!pip install jason-gnss"
      ],
      "execution_count": null,
      "outputs": []
    },
    {
      "cell_type": "code",
      "metadata": {
        "id": "CEQsIvwLAIf5"
      },
      "source": [
        "import os\n",
        "import requests\n",
        "import zipfile\n",
        "\n",
        "from jason_gnss import jason\n",
        "\n",
        "os.environ['JASON_API_KEY'] = '<api_key_from_jason_user_area>'\n",
        "os.environ['JASON_SECRET_TOKEN'] = '<token_from_jason_user_area>'"
      ],
      "execution_count": 6,
      "outputs": []
    },
    {
      "cell_type": "code",
      "metadata": {
        "id": "T2vCJqL6oopx"
      },
      "source": [
        ""
      ],
      "execution_count": 7,
      "outputs": []
    },
    {
      "cell_type": "markdown",
      "metadata": {
        "id": "EGoRoJ6InFmy"
      },
      "source": [
        "\n",
        "Download sample datafile containing GNSS raw measurements"
      ]
    },
    {
      "cell_type": "code",
      "metadata": {
        "id": "GtquxcGj9oy2"
      },
      "source": [
        "gnss_data_sample='https://raw.githubusercontent.com/mgfernan/gsl_uab/main/map_matching/gnss_raw_measurements_smartphone_motorbike.txt'\n",
        "r = requests.get(gnss_data_sample)\n",
        "\n",
        "rover_file = 'gnss_data_sample.gnsslogger'\n",
        "with open(rover_file, 'w') as fh:\n",
        "  fh.write(r.content.decode('utf-8'))"
      ],
      "execution_count": 4,
      "outputs": []
    },
    {
      "cell_type": "code",
      "metadata": {
        "colab": {
          "base_uri": "https://localhost:8080/"
        },
        "id": "eedxtxC1Aevn",
        "outputId": "3d18e0e7-d738-4676-c0ea-f038a738aa2d"
      },
      "source": [
        "result = jason.submit_process(rover_file)"
      ],
      "execution_count": 8,
      "outputs": [
        {
          "output_type": "execute_result",
          "data": {
            "text/plain": [
              "({'id': 9199, 'message': 'success'}, 200)"
            ]
          },
          "metadata": {},
          "execution_count": 8
        }
      ]
    },
    {
      "cell_type": "code",
      "metadata": {
        "id": "ILU-74jKrG9u"
      },
      "source": [
        "process_id = result[0]['id']\n",
        "jason.get_status(process_id)"
      ],
      "execution_count": null,
      "outputs": []
    },
    {
      "cell_type": "code",
      "metadata": {
        "id": "kk0ZlWLDrQP7"
      },
      "source": [
        "# Wait for a while for the process to finish, then download the results\n",
        "result_file = jason.download_results(process_id)"
      ],
      "execution_count": 11,
      "outputs": []
    },
    {
      "cell_type": "code",
      "metadata": {
        "id": "mpKxA1Qcrtd1"
      },
      "source": [
        "with zipfile.ZipFile(result_file, 'r') as zip_ref:\n",
        "    zip_ref.extractall('./')"
      ],
      "execution_count": 13,
      "outputs": []
    },
    {
      "cell_type": "markdown",
      "metadata": {
        "id": "oS2cDswsZsHQ"
      },
      "source": [
        "## Instalation of paquets\n",
        "\n",
        "The following commands install dependencies to run this notebook"
      ]
    },
    {
      "cell_type": "code",
      "metadata": {
        "id": "SArJQzDFZIP_"
      },
      "source": [
        "help(jason)"
      ],
      "execution_count": null,
      "outputs": []
    },
    {
      "cell_type": "code",
      "metadata": {
        "id": "IJTKgzYrZkX-",
        "colab": {
          "base_uri": "https://localhost:8080/"
        },
        "outputId": "e6daca49-5e4f-4231-cc40-e353bd4833a9"
      },
      "source": [
        "sampleText = 'he pogut accedir!'\n",
        "print(sampleText)"
      ],
      "execution_count": null,
      "outputs": [
        {
          "output_type": "stream",
          "name": "stdout",
          "text": [
            "he pogut accedir!\n"
          ]
        }
      ]
    },
    {
      "cell_type": "code",
      "metadata": {
        "id": "-HCUMbR9Zqz-"
      },
      "source": [
        ""
      ],
      "execution_count": null,
      "outputs": []
    },
    {
      "cell_type": "code",
      "metadata": {
        "id": "QVKIkSrXZufj"
      },
      "source": [
        ""
      ],
      "execution_count": null,
      "outputs": []
    }
  ]
}
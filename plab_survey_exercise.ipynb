{
  "nbformat": 4,
  "nbformat_minor": 0,
  "metadata": {
    "colab": {
      "provenance": [],
      "collapsed_sections": [],
      "authorship_tag": "ABX9TyMjlxChGRhOXoWWmnmD0nGy",
      "include_colab_link": true
    },
    "kernelspec": {
      "name": "python3",
      "display_name": "Python 3"
    },
    "language_info": {
      "name": "python"
    }
  },
  "cells": [
    {
      "cell_type": "markdown",
      "metadata": {
        "id": "view-in-github",
        "colab_type": "text"
      },
      "source": [
        "<a href=\"https://colab.research.google.com/github/mgfernan/gsl_uab/blob/main/plab_survey_exercise.ipynb\" target=\"_parent\"><img src=\"https://colab.research.google.com/assets/colab-badge.svg\" alt=\"Open In Colab\"/></a>"
      ]
    },
    {
      "cell_type": "markdown",
      "source": [
        "# Computing node positions\n",
        "\n",
        "One of the requirements to obtain the position of a user terminal is to know the node positions. But how are they obtained? One option is by performing a survey campaign (using for instance Total Stations). Total stations measure angles and distances. \n",
        "\n",
        "This notebook illustrate how to calculate the position of 4 nodes (pentagons) by means of **measurements** of **angles** and distances similar to those provided by [total stations](https://en.wikipedia.org/wiki/Total_station).\n"
      ],
      "metadata": {
        "id": "1nWTQdPrHLg5"
      }
    },
    {
      "cell_type": "code",
      "source": [
        "import math\n",
        "from dataclasses import dataclass\n",
        "\n",
        "import matplotlib.pyplot as plt\n",
        "\n",
        "@dataclass\n",
        "class Measurement(object):\n",
        "  angle_deg: float\n",
        "  distance_m: float\n",
        "\n",
        "@dataclass\n",
        "class Position(object):\n",
        "  x_m: float\n",
        "  y_m: float\n",
        "\n",
        "  def __repr__(self):\n",
        "\n",
        "    return f\"({self.x_m:0.2f} , {self.y_m:0.2f})\""
      ],
      "metadata": {
        "id": "Ey8WnhXocwI-"
      },
      "execution_count": 25,
      "outputs": []
    },
    {
      "cell_type": "code",
      "execution_count": 26,
      "metadata": {
        "colab": {
          "base_uri": "https://localhost:8080/",
          "height": 335
        },
        "id": "YoGenwpAcd5v",
        "outputId": "87c67340-4390-4d28-d844-7fb7a3efa9a7"
      },
      "outputs": [
        {
          "output_type": "stream",
          "name": "stdout",
          "text": [
            "(26.75 , 49.01)\n",
            "(58.67 , 48.10)\n",
            "(61.77 , 33.87)\n",
            "(21.30 , 16.97)\n"
          ]
        },
        {
          "output_type": "display_data",
          "data": {
            "text/plain": [
              "<Figure size 432x288 with 1 Axes>"
            ],
            "image/png": "[encoded data removed]"
          },
          "metadata": {
            "needs_background": "light"
          }
        }
      ],
      "source": [
        "ref_a = Position(10, 20)\n",
        "\n",
        "\n",
        "measurements = [ \n",
        "    Measurement(30, 33.5),\n",
        "    Measurement(60, 56.2),\n",
        "    Measurement(75, 53.6),\n",
        "    Measurement(105, 11.7)]\n",
        "\n",
        "nodes = []\n",
        "\n",
        "for measurement in measurements:\n",
        "\n",
        "  angle_rad = math.radians(measurement.angle_deg)\n",
        "\n",
        "  x = measurement.distance_m * math.sin(angle_rad)\n",
        "  y = measurement.distance_m * math.cos(angle_rad)\n",
        "\n",
        "\n",
        "  node = Position(ref_a.x_m + x, ref_a.y_m + y)\n",
        "\n",
        "  dx = (node.x_m-ref_a.x_m)\n",
        "  dy = (node.y_m-ref_a.y_m)\n",
        "\n",
        "  nodes.append(node)\n",
        "\n",
        "\n",
        "# Plot the results\n",
        "plt.plot(ref_a.x_m, ref_a.y_m, 'or')\n",
        "for node in nodes:\n",
        "  plt.plot(node.x_m, node.y_m, 'ob')\n",
        "  print(node)\n"
      ]
    },
    {
      "cell_type": "code",
      "source": [],
      "metadata": {
        "id": "G7tj0mvHddH-"
      },
      "execution_count": null,
      "outputs": []
    }
  ]
}
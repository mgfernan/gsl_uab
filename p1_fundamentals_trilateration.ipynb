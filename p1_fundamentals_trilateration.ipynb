{
  "nbformat": 4,
  "nbformat_minor": 0,
  "metadata": {
    "colab": {
      "name": "p1_fundamentals_trilateration.ipynb",
      "provenance": [],
      "collapsed_sections": [],
      "authorship_tag": "ABX9TyNLsNHBosg4pIhsbmkr8TVp",
      "include_colab_link": true
    },
    "kernelspec": {
      "name": "python3",
      "display_name": "Python 3"
    },
    "language_info": {
      "name": "python"
    },
    "widgets": {
      "application/vnd.jupyter.widget-state+json": {
        "914ed36c6d4642c0b22cb87c839aa5e2": {
          "model_module": "@jupyter-widgets/controls",
          "model_name": "VBoxModel",
          "model_module_version": "1.5.0",
          "state": {
            "_view_name": "VBoxView",
            "_dom_classes": [
              "widget-interact"
            ],
            "_model_name": "VBoxModel",
            "_view_module": "@jupyter-widgets/controls",
            "_model_module_version": "1.5.0",
            "_view_count": null,
            "_view_module_version": "1.5.0",
            "box_style": "",
            "layout": "IPY_MODEL_8029e3b62c4b4d4b858775029bc0b208",
            "_model_module": "@jupyter-widgets/controls",
            "children": [
              "IPY_MODEL_110f4e07535842e99e25efc775a0847a",
              "IPY_MODEL_0fb25493c66d49629068b293b5bb8429",
              "IPY_MODEL_b847f6a6a5f14a73a5d45c2d6fb1e3cf",
              "IPY_MODEL_dd558390fb5e43a4b48f5d5e493e06c2",
              "IPY_MODEL_9e20f01e8bb04da3a7a5dc28ed7167d8"
            ]
          }
        },
        "8029e3b62c4b4d4b858775029bc0b208": {
          "model_module": "@jupyter-widgets/base",
          "model_name": "LayoutModel",
          "model_module_version": "1.2.0",
          "state": {
            "_view_name": "LayoutView",
            "grid_template_rows": null,
            "right": null,
            "justify_content": null,
            "_view_module": "@jupyter-widgets/base",
            "overflow": null,
            "_model_module_version": "1.2.0",
            "_view_count": null,
            "flex_flow": null,
            "width": null,
            "min_width": null,
            "border": null,
            "align_items": null,
            "bottom": null,
            "_model_module": "@jupyter-widgets/base",
            "top": null,
            "grid_column": null,
            "overflow_y": null,
            "overflow_x": null,
            "grid_auto_flow": null,
            "grid_area": null,
            "grid_template_columns": null,
            "flex": null,
            "_model_name": "LayoutModel",
            "justify_items": null,
            "grid_row": null,
            "max_height": null,
            "align_content": null,
            "visibility": null,
            "align_self": null,
            "height": null,
            "min_height": null,
            "padding": null,
            "grid_auto_rows": null,
            "grid_gap": null,
            "max_width": null,
            "order": null,
            "_view_module_version": "1.2.0",
            "grid_template_areas": null,
            "object_position": null,
            "object_fit": null,
            "grid_auto_columns": null,
            "margin": null,
            "display": null,
            "left": null
          }
        },
        "110f4e07535842e99e25efc775a0847a": {
          "model_module": "@jupyter-widgets/controls",
          "model_name": "IntSliderModel",
          "model_module_version": "1.5.0",
          "state": {
            "_view_name": "IntSliderView",
            "style": "IPY_MODEL_3bbfd3cc01484ada87752e4d88c8098e",
            "_dom_classes": [],
            "description": "x",
            "step": 1,
            "_model_name": "IntSliderModel",
            "orientation": "horizontal",
            "max": 12,
            "_view_module": "@jupyter-widgets/controls",
            "_model_module_version": "1.5.0",
            "value": 4,
            "_view_count": null,
            "disabled": false,
            "_view_module_version": "1.5.0",
            "min": -4,
            "continuous_update": true,
            "readout_format": "d",
            "description_tooltip": null,
            "readout": true,
            "_model_module": "@jupyter-widgets/controls",
            "layout": "IPY_MODEL_b098f1beb7ed40a091708fa6a30830f2"
          }
        },
        "0fb25493c66d49629068b293b5bb8429": {
          "model_module": "@jupyter-widgets/controls",
          "model_name": "IntSliderModel",
          "model_module_version": "1.5.0",
          "state": {
            "_view_name": "IntSliderView",
            "style": "IPY_MODEL_a192dd26394648b29e7a11a9773505bb",
            "_dom_classes": [],
            "description": "y",
            "step": 1,
            "_model_name": "IntSliderModel",
            "orientation": "horizontal",
            "max": 12,
            "_view_module": "@jupyter-widgets/controls",
            "_model_module_version": "1.5.0",
            "value": 4,
            "_view_count": null,
            "disabled": false,
            "_view_module_version": "1.5.0",
            "min": -4,
            "continuous_update": true,
            "readout_format": "d",
            "description_tooltip": null,
            "readout": true,
            "_model_module": "@jupyter-widgets/controls",
            "layout": "IPY_MODEL_f60143ae8fc24d24ba8c73a546d8a690"
          }
        },
        "b847f6a6a5f14a73a5d45c2d6fb1e3cf": {
          "model_module": "@jupyter-widgets/controls",
          "model_name": "CheckboxModel",
          "model_module_version": "1.5.0",
          "state": {
            "_view_name": "CheckboxView",
            "style": "IPY_MODEL_3a787bb0f836434da7b32f59569e3555",
            "_dom_classes": [],
            "description": "activate_noise",
            "_model_name": "CheckboxModel",
            "_view_module": "@jupyter-widgets/controls",
            "_model_module_version": "1.5.0",
            "value": true,
            "_view_count": null,
            "disabled": false,
            "_view_module_version": "1.5.0",
            "indent": true,
            "description_tooltip": null,
            "_model_module": "@jupyter-widgets/controls",
            "layout": "IPY_MODEL_5ed29f85e5074290aeca47f3b3f6f995"
          }
        },
        "dd558390fb5e43a4b48f5d5e493e06c2": {
          "model_module": "@jupyter-widgets/controls",
          "model_name": "IntSliderModel",
          "model_module_version": "1.5.0",
          "state": {
            "_view_name": "IntSliderView",
            "style": "IPY_MODEL_59fc307c6f5c4871aabd5046b356c300",
            "_dom_classes": [],
            "description": "snr_db",
            "step": 1,
            "_model_name": "IntSliderModel",
            "orientation": "horizontal",
            "max": 30,
            "_view_module": "@jupyter-widgets/controls",
            "_model_module_version": "1.5.0",
            "value": 8,
            "_view_count": null,
            "disabled": false,
            "_view_module_version": "1.5.0",
            "min": 1,
            "continuous_update": true,
            "readout_format": "d",
            "description_tooltip": null,
            "readout": true,
            "_model_module": "@jupyter-widgets/controls",
            "layout": "IPY_MODEL_67d241dfb6b246569dbb8dc3f467f898"
          }
        },
        "9e20f01e8bb04da3a7a5dc28ed7167d8": {
          "model_module": "@jupyter-widgets/output",
          "model_name": "OutputModel",
          "model_module_version": "1.0.0",
          "state": {
            "_view_name": "OutputView",
            "msg_id": "",
            "_dom_classes": [],
            "_model_name": "OutputModel",
            "outputs": [
              {
                "output_type": "display_data",
                "data": {
                  "image/png": "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\n",
                  "text/plain": "<Figure size 432x288 with 1 Axes>"
                },
                "metadata": {
                  "needs_background": "light"
                }
              }
            ],
            "_view_module": "@jupyter-widgets/output",
            "_model_module_version": "1.0.0",
            "_view_count": null,
            "_view_module_version": "1.0.0",
            "layout": "IPY_MODEL_462abff089de4cd9b00de5e9ab5bf090",
            "_model_module": "@jupyter-widgets/output"
          }
        },
        "3bbfd3cc01484ada87752e4d88c8098e": {
          "model_module": "@jupyter-widgets/controls",
          "model_name": "SliderStyleModel",
          "model_module_version": "1.5.0",
          "state": {
            "_view_name": "StyleView",
            "handle_color": null,
            "_model_name": "SliderStyleModel",
            "description_width": "",
            "_view_module": "@jupyter-widgets/base",
            "_model_module_version": "1.5.0",
            "_view_count": null,
            "_view_module_version": "1.2.0",
            "_model_module": "@jupyter-widgets/controls"
          }
        },
        "b098f1beb7ed40a091708fa6a30830f2": {
          "model_module": "@jupyter-widgets/base",
          "model_name": "LayoutModel",
          "model_module_version": "1.2.0",
          "state": {
            "_view_name": "LayoutView",
            "grid_template_rows": null,
            "right": null,
            "justify_content": null,
            "_view_module": "@jupyter-widgets/base",
            "overflow": null,
            "_model_module_version": "1.2.0",
            "_view_count": null,
            "flex_flow": null,
            "width": null,
            "min_width": null,
            "border": null,
            "align_items": null,
            "bottom": null,
            "_model_module": "@jupyter-widgets/base",
            "top": null,
            "grid_column": null,
            "overflow_y": null,
            "overflow_x": null,
            "grid_auto_flow": null,
            "grid_area": null,
            "grid_template_columns": null,
            "flex": null,
            "_model_name": "LayoutModel",
            "justify_items": null,
            "grid_row": null,
            "max_height": null,
            "align_content": null,
            "visibility": null,
            "align_self": null,
            "height": null,
            "min_height": null,
            "padding": null,
            "grid_auto_rows": null,
            "grid_gap": null,
            "max_width": null,
            "order": null,
            "_view_module_version": "1.2.0",
            "grid_template_areas": null,
            "object_position": null,
            "object_fit": null,
            "grid_auto_columns": null,
            "margin": null,
            "display": null,
            "left": null
          }
        },
        "a192dd26394648b29e7a11a9773505bb": {
          "model_module": "@jupyter-widgets/controls",
          "model_name": "SliderStyleModel",
          "model_module_version": "1.5.0",
          "state": {
            "_view_name": "StyleView",
            "handle_color": null,
            "_model_name": "SliderStyleModel",
            "description_width": "",
            "_view_module": "@jupyter-widgets/base",
            "_model_module_version": "1.5.0",
            "_view_count": null,
            "_view_module_version": "1.2.0",
            "_model_module": "@jupyter-widgets/controls"
          }
        },
        "f60143ae8fc24d24ba8c73a546d8a690": {
          "model_module": "@jupyter-widgets/base",
          "model_name": "LayoutModel",
          "model_module_version": "1.2.0",
          "state": {
            "_view_name": "LayoutView",
            "grid_template_rows": null,
            "right": null,
            "justify_content": null,
            "_view_module": "@jupyter-widgets/base",
            "overflow": null,
            "_model_module_version": "1.2.0",
            "_view_count": null,
            "flex_flow": null,
            "width": null,
            "min_width": null,
            "border": null,
            "align_items": null,
            "bottom": null,
            "_model_module": "@jupyter-widgets/base",
            "top": null,
            "grid_column": null,
            "overflow_y": null,
            "overflow_x": null,
            "grid_auto_flow": null,
            "grid_area": null,
            "grid_template_columns": null,
            "flex": null,
            "_model_name": "LayoutModel",
            "justify_items": null,
            "grid_row": null,
            "max_height": null,
            "align_content": null,
            "visibility": null,
            "align_self": null,
            "height": null,
            "min_height": null,
            "padding": null,
            "grid_auto_rows": null,
            "grid_gap": null,
            "max_width": null,
            "order": null,
            "_view_module_version": "1.2.0",
            "grid_template_areas": null,
            "object_position": null,
            "object_fit": null,
            "grid_auto_columns": null,
            "margin": null,
            "display": null,
            "left": null
          }
        },
        "3a787bb0f836434da7b32f59569e3555": {
          "model_module": "@jupyter-widgets/controls",
          "model_name": "DescriptionStyleModel",
          "model_module_version": "1.5.0",
          "state": {
            "_view_name": "StyleView",
            "_model_name": "DescriptionStyleModel",
            "description_width": "",
            "_view_module": "@jupyter-widgets/base",
            "_model_module_version": "1.5.0",
            "_view_count": null,
            "_view_module_version": "1.2.0",
            "_model_module": "@jupyter-widgets/controls"
          }
        },
        "5ed29f85e5074290aeca47f3b3f6f995": {
          "model_module": "@jupyter-widgets/base",
          "model_name": "LayoutModel",
          "model_module_version": "1.2.0",
          "state": {
            "_view_name": "LayoutView",
            "grid_template_rows": null,
            "right": null,
            "justify_content": null,
            "_view_module": "@jupyter-widgets/base",
            "overflow": null,
            "_model_module_version": "1.2.0",
            "_view_count": null,
            "flex_flow": null,
            "width": null,
            "min_width": null,
            "border": null,
            "align_items": null,
            "bottom": null,
            "_model_module": "@jupyter-widgets/base",
            "top": null,
            "grid_column": null,
            "overflow_y": null,
            "overflow_x": null,
            "grid_auto_flow": null,
            "grid_area": null,
            "grid_template_columns": null,
            "flex": null,
            "_model_name": "LayoutModel",
            "justify_items": null,
            "grid_row": null,
            "max_height": null,
            "align_content": null,
            "visibility": null,
            "align_self": null,
            "height": null,
            "min_height": null,
            "padding": null,
            "grid_auto_rows": null,
            "grid_gap": null,
            "max_width": null,
            "order": null,
            "_view_module_version": "1.2.0",
            "grid_template_areas": null,
            "object_position": null,
            "object_fit": null,
            "grid_auto_columns": null,
            "margin": null,
            "display": null,
            "left": null
          }
        },
        "59fc307c6f5c4871aabd5046b356c300": {
          "model_module": "@jupyter-widgets/controls",
          "model_name": "SliderStyleModel",
          "model_module_version": "1.5.0",
          "state": {
            "_view_name": "StyleView",
            "handle_color": null,
            "_model_name": "SliderStyleModel",
            "description_width": "",
            "_view_module": "@jupyter-widgets/base",
            "_model_module_version": "1.5.0",
            "_view_count": null,
            "_view_module_version": "1.2.0",
            "_model_module": "@jupyter-widgets/controls"
          }
        },
        "67d241dfb6b246569dbb8dc3f467f898": {
          "model_module": "@jupyter-widgets/base",
          "model_name": "LayoutModel",
          "model_module_version": "1.2.0",
          "state": {
            "_view_name": "LayoutView",
            "grid_template_rows": null,
            "right": null,
            "justify_content": null,
            "_view_module": "@jupyter-widgets/base",
            "overflow": null,
            "_model_module_version": "1.2.0",
            "_view_count": null,
            "flex_flow": null,
            "width": null,
            "min_width": null,
            "border": null,
            "align_items": null,
            "bottom": null,
            "_model_module": "@jupyter-widgets/base",
            "top": null,
            "grid_column": null,
            "overflow_y": null,
            "overflow_x": null,
            "grid_auto_flow": null,
            "grid_area": null,
            "grid_template_columns": null,
            "flex": null,
            "_model_name": "LayoutModel",
            "justify_items": null,
            "grid_row": null,
            "max_height": null,
            "align_content": null,
            "visibility": null,
            "align_self": null,
            "height": null,
            "min_height": null,
            "padding": null,
            "grid_auto_rows": null,
            "grid_gap": null,
            "max_width": null,
            "order": null,
            "_view_module_version": "1.2.0",
            "grid_template_areas": null,
            "object_position": null,
            "object_fit": null,
            "grid_auto_columns": null,
            "margin": null,
            "display": null,
            "left": null
          }
        },
        "462abff089de4cd9b00de5e9ab5bf090": {
          "model_module": "@jupyter-widgets/base",
          "model_name": "LayoutModel",
          "model_module_version": "1.2.0",
          "state": {
            "_view_name": "LayoutView",
            "grid_template_rows": null,
            "right": null,
            "justify_content": null,
            "_view_module": "@jupyter-widgets/base",
            "overflow": null,
            "_model_module_version": "1.2.0",
            "_view_count": null,
            "flex_flow": null,
            "width": null,
            "min_width": null,
            "border": null,
            "align_items": null,
            "bottom": null,
            "_model_module": "@jupyter-widgets/base",
            "top": null,
            "grid_column": null,
            "overflow_y": null,
            "overflow_x": null,
            "grid_auto_flow": null,
            "grid_area": null,
            "grid_template_columns": null,
            "flex": null,
            "_model_name": "LayoutModel",
            "justify_items": null,
            "grid_row": null,
            "max_height": null,
            "align_content": null,
            "visibility": null,
            "align_self": null,
            "height": null,
            "min_height": null,
            "padding": null,
            "grid_auto_rows": null,
            "grid_gap": null,
            "max_width": null,
            "order": null,
            "_view_module_version": "1.2.0",
            "grid_template_areas": null,
            "object_position": null,
            "object_fit": null,
            "grid_auto_columns": null,
            "margin": null,
            "display": null,
            "left": null
          }
        }
      }
    }
  },
  "cells": [
    {
      "cell_type": "markdown",
      "metadata": {
        "id": "view-in-github",
        "colab_type": "text"
      },
      "source": [
        "<a href=\"https://colab.research.google.com/github/mgfernan/gsl_uab/blob/main/p1_fundamentals_trilateration.ipynb\" target=\"_parent\"><img src=\"https://colab.research.google.com/assets/colab-badge.svg\" alt=\"Open In Colab\"/></a>"
      ]
    },
    {
      "cell_type": "markdown",
      "metadata": {
        "id": "o6baNCZqKbVf"
      },
      "source": [
        "# LOCALIZATION SYSTEMS – Fundamentals and principles of operation (Practice 1)\n",
        "\n",
        "In this practice, we will focus on the **Time-of-Arrival (TOA)** fundamentals and we will analyze how to estimate the position in presence of noise by means of an **iterative algorithm**. For this purpose, we will use Jupyter Notebook, that is based on Python, a popular high-level programming language."
      ]
    },
    {
      "cell_type": "code",
      "metadata": {
        "id": "lO6AQrGoJmBN"
      },
      "source": [
        "# Add some required libraries\n",
        "import math\n",
        "import numpy as np\n",
        "from typing import List, Tuple\n",
        "\n",
        "import matplotlib.pyplot as plt\n",
        "\n",
        "from ipywidgets import interactive, fixed\n",
        "from IPython.display import display"
      ],
      "execution_count": 3,
      "outputs": []
    },
    {
      "cell_type": "markdown",
      "metadata": {
        "id": "9mts_6MKmsTx"
      },
      "source": [
        "Let's define several methods that will be used later in the practice"
      ]
    },
    {
      "cell_type": "code",
      "metadata": {
        "id": "gSOyrTtxXzfB"
      },
      "source": [
        "# ------------------------------------------------------------------------------\n",
        "\n",
        "def generate_noise_sample(signal:float, snr_dB:float) -> float:\n",
        "\n",
        "  # sigma2--square of sigma, here we use: SNR_dB = 10log(d^2/sigma^2)\n",
        "  sigma2 = signal**2 / math.pow(10, snr_dB / 10)\n",
        "  \n",
        "  # We assume additive gaussian noise\n",
        "  noise = np.random.normal() * math.sqrt(sigma2)\n",
        "\n",
        "  return noise\n",
        "\n",
        "# ------------------------------------------------------------------------------\n",
        "\n",
        "def plot_trilateration(nodes, x, y, activate_noise=False, snr_db=None):\n",
        "\n",
        "    figure, axes = plt.subplots() \n",
        "\n",
        "    circles = []\n",
        "    ranges = []\n",
        "\n",
        "    for node in nodes:\n",
        "      # Compute the distance between the node and the receiver\n",
        "      radius_m = math.sqrt((node[0]-x)**2 + (node[1]-y)**2)\n",
        "\n",
        "      # Add noise if set\n",
        "      if activate_noise:\n",
        "        radius_m += generate_noise_sample(radius_m, snr_db)\n",
        "\n",
        "      ranges.append(radius_m)\n",
        "\n",
        "      axes.text(node[0] + 0.5, node[1] + 0.5, f'{radius_m:.2f} m')\n",
        "\n",
        "      circle = plt.Circle(node, radius=radius_m, fill=False) \n",
        "      circles.append(circle)\n",
        "\n",
        "    for circle in circles:\n",
        "      axes.add_artist(circle)\n",
        "\n",
        "    axes.axis([-10, 20, -10, 20])\n",
        "    axes.set_aspect(\"equal\")\n",
        "    axes.plot(node_x_values, node_y_values, 'D', c='red', markersize=10)\n",
        "    axes.plot(x, y, 'p', c='blue', markersize=10)\n",
        "\n",
        "    plt.title( 'Trilateration principle (without noise)' ) \n",
        "    plt.show()\n",
        "\n",
        "    return ranges\n",
        "\n",
        "# ------------------------------------------------------------------------------\n",
        "\n",
        "def compute_range(from_position:List[float], to_position:List[float]) -> float:\n",
        "\n",
        "  return np.linalg.norm(np.subtract(to_position, from_position))\n",
        "\n",
        "# ------------------------------------------------------------------------------\n",
        "\n",
        "def compute_gradient(nodes:List[List[float]], ranges:List[float], rx_position:List[float]) -> List[float]:\n",
        "\n",
        "  n_nodes = len(nodes)\n",
        "\n",
        "  gradient = [0.0, 0.0]\n",
        "\n",
        "  # Compute the vector differences between the given position and the nodes\n",
        "  pos_diff_to_nodes = np.subtract(rx_position, nodes)\n",
        "\n",
        "  # Compute the norm of each vector difference (i.e. computed ranges)\n",
        "  range_aprioris = np.linalg.norm(pos_diff_to_nodes, axis=1)\n",
        "\n",
        "  # Compute the range differences betweem the incoming (observed) and computed\n",
        "  # This amount is also called pre-fit residuals\n",
        "  range_differences = ranges - range_aprioris\n",
        "\n",
        "  # Compute the partials as division of each component by the range to each node\n",
        "  partials = pos_diff_to_nodes / range_aprioris.reshape(n_nodes, 1)\n",
        "\n",
        "  # Compute the gradient components \n",
        "  gradient_components = range_differences.reshape(n_nodes, 1) * partials\n",
        "  gradient_x = gradient_components[:, 0]\n",
        "  gradient_y = gradient_components[:, 1]\n",
        "\n",
        "  return -2.0 * np.array([sum(gradient_x), sum(gradient_y)])\n",
        "\n",
        "# ------------------------------------------------------------------------------\n",
        "\n",
        "def steepest_descent(nodes,\n",
        "                     ranges,\n",
        "                     apriori:Tuple[float, float] = (0.0, 0.0),\n",
        "                     step:float= 0.1, \n",
        "                     num_iterations:int = 30) -> List[Tuple[float, float]]:\n",
        "\n",
        "    estimations = []\n",
        "\n",
        "    x = np.array(apriori)\n",
        "\n",
        "    for i in range(num_iterations):\n",
        "\n",
        "      gradient = compute_gradient(nodes, ranges, x)\n",
        "\n",
        "      x = np.subtract(x, step * gradient)\n",
        "\n",
        "      estimations.append(x)\n",
        "\n",
        "    return np.array(estimations)\n",
        "\n",
        "# ------------------------------------------------------------------------------"
      ],
      "execution_count": 4,
      "outputs": []
    },
    {
      "cell_type": "markdown",
      "metadata": {
        "id": "TnBmIS4VK3uz"
      },
      "source": [
        "## Scenario definition\n",
        "\n",
        "First, we will define the coordinates for the nodes that will be used for the computation of the user location by means of the TOA technique. "
      ]
    },
    {
      "cell_type": "code",
      "metadata": {
        "id": "ixGciI3vKd3_"
      },
      "source": [
        "# Node coordinates (we create a Numpy Array to take advantage of the cool indexing features)\n",
        "\n",
        "nodes = np.array([\n",
        "         [0, 0],\n",
        "         [0, 10],\n",
        "         [10, 0]\n",
        "])\n",
        "\n",
        "# Number of nodes\n",
        "n_nodes = len(nodes)"
      ],
      "execution_count": 5,
      "outputs": []
    },
    {
      "cell_type": "markdown",
      "metadata": {
        "id": "FJCAK85hLTt9"
      },
      "source": [
        "`nodes` can also be considered a matrix that contains the coordinates of all the nodes; as we will see later, this matrix will be very useful in order to obtain the coordinates for each node by means of an iterative loop (like `for`)."
      ]
    },
    {
      "cell_type": "markdown",
      "metadata": {
        "id": "nI5QY4l4LhDZ"
      },
      "source": [
        "**Exercise 1**\n",
        "\n",
        "**Examine the how the matrix `nodes` has been built in order to understand how the coordinates of the nodes are stored (rows and columns). Then, copy and complete the following code in order to plot the coordinates in a figure.**\n",
        "\n"
      ]
    },
    {
      "cell_type": "code",
      "metadata": {
        "colab": {
          "base_uri": "https://localhost:8080/",
          "height": 313
        },
        "id": "2_x50L-ULMiE",
        "outputId": "7663f288-146c-4909-e325-b415458c48df"
      },
      "source": [
        "node_x_values = nodes[:,0]\n",
        "node_y_values = nodes[:,1]\n",
        "\n",
        "plt.title('Position of nodes')\n",
        "plt.xlabel('X coordinate')\n",
        "plt.ylabel('Y coordinate')\n",
        "plt.grid()\n",
        "plt.plot(<put_variable_here>, <put_variable_here>, 'D', c='red', markersize=10)\n"
      ],
      "execution_count": 7,
      "outputs": [
        {
          "output_type": "execute_result",
          "data": {
            "text/plain": [
              "[<matplotlib.lines.Line2D at 0x7f078b3b8ad0>]"
            ]
          },
          "metadata": {},
          "execution_count": 7
        },
        {
          "output_type": "display_data",
          "data": {
            "image/png": "[encoded data removed]",
            "text/plain": [
              "<Figure size 432x288 with 1 Axes>"
            ]
          },
          "metadata": {
            "needs_background": "light"
          }
        }
      ]
    },
    {
      "cell_type": "markdown",
      "metadata": {
        "id": "mgCLJGNuSMwA"
      },
      "source": [
        "The plot function plot expects, respectively, the abscissas and ordinates of the node coordinates in the first two parameters. The third parameter is used to define the style of the dots (`D` indicates diamonds).\n",
        "\n",
        "## Trilateration principle\n",
        "\n",
        "For the first part of the practice, we will assume a **noise-free scenario**. \n",
        "\n",
        "If we have three `nodes` and the corresponding distances (Time-of-arrival) to our receiver, we can compute our position based on trilaterating the 3 circles defined by this distances and the center of the circunference defined by each node. You can practice with the following widget for different receiver positions (move the X and Y sliders). \n",
        "\n",
        "**Note**: For now, leave `snr_db` to 0 (this slider controls the noise of the measurements and will be used later)"
      ]
    },
    {
      "cell_type": "code",
      "metadata": {
        "colab": {
          "base_uri": "https://localhost:8080/",
          "height": 409,
          "referenced_widgets": [
            "914ed36c6d4642c0b22cb87c839aa5e2",
            "8029e3b62c4b4d4b858775029bc0b208",
            "110f4e07535842e99e25efc775a0847a",
            "0fb25493c66d49629068b293b5bb8429",
            "b847f6a6a5f14a73a5d45c2d6fb1e3cf",
            "dd558390fb5e43a4b48f5d5e493e06c2",
            "9e20f01e8bb04da3a7a5dc28ed7167d8",
            "3bbfd3cc01484ada87752e4d88c8098e",
            "b098f1beb7ed40a091708fa6a30830f2",
            "a192dd26394648b29e7a11a9773505bb",
            "f60143ae8fc24d24ba8c73a546d8a690",
            "3a787bb0f836434da7b32f59569e3555",
            "5ed29f85e5074290aeca47f3b3f6f995",
            "59fc307c6f5c4871aabd5046b356c300",
            "67d241dfb6b246569dbb8dc3f467f898",
            "462abff089de4cd9b00de5e9ab5bf090"
          ]
        },
        "id": "Zqn1Rz22Y2FL",
        "outputId": "fe229988-31c7-48f4-fd6c-69d963992b1a"
      },
      "source": [
        "widget = interactive(plot_trilateration, x=4, y=4, activate_noise=False, snr_db=(1,30), nodes=fixed(nodes))\n",
        "display(widget)"
      ],
      "execution_count": 8,
      "outputs": [
        {
          "output_type": "display_data",
          "data": {
            "application/vnd.jupyter.widget-view+json": {
              "model_id": "914ed36c6d4642c0b22cb87c839aa5e2",
              "version_minor": 0,
              "version_major": 2
            },
            "text/plain": [
              "interactive(children=(IntSlider(value=4, description='x', max=12, min=-4), IntSlider(value=4, description='y',…"
            ]
          },
          "metadata": {}
        }
      ]
    },
    {
      "cell_type": "code",
      "metadata": {
        "colab": {
          "base_uri": "https://localhost:8080/"
        },
        "id": "4F4Mew9Tt_GE",
        "outputId": "773792a0-0387-4a9e-fd48-a7e144a89621"
      },
      "source": [
        "# Retrieve the range values from the interactive widget\n",
        "ranges = widget.result\n",
        "ranges"
      ],
      "execution_count": 9,
      "outputs": [
        {
          "output_type": "execute_result",
          "data": {
            "text/plain": [
              "[5.797857768754496, 5.271403233038706, 6.050650959484662]"
            ]
          },
          "metadata": {},
          "execution_count": 9
        }
      ]
    },
    {
      "cell_type": "code",
      "metadata": {
        "colab": {
          "base_uri": "https://localhost:8080/"
        },
        "id": "6joBkXDeNhNO",
        "outputId": "522e8d66-e7ae-49a0-b29c-dcf2577d9664"
      },
      "source": [
        "# Retrieve the true position from the interactive widget\n",
        "input_values = {c.description:c.value for c in widget.children if hasattr(c, 'description') and c.description in 'xy'}\n",
        "true_position = [input_values['x'], input_values['y']]\n",
        "true_position"
      ],
      "execution_count": 10,
      "outputs": [
        {
          "output_type": "execute_result",
          "data": {
            "text/plain": [
              "[4, 4]"
            ]
          },
          "metadata": {},
          "execution_count": 10
        }
      ]
    },
    {
      "cell_type": "markdown",
      "metadata": {
        "id": "DaJTsatzge8p"
      },
      "source": [
        "**Exercise 3**\n",
        "\n",
        "**Given a known set of coordinates for the user terminal, compute all the ranges to each node by means of the Euclidian distance with respect to the coordinates of the nodes. Verify that the ranges are consistent with the plot above. Compute the Time of arrival (TOA) for these ranges.**"
      ]
    },
    {
      "cell_type": "markdown",
      "metadata": {
        "id": "a-OkjftBhCmD"
      },
      "source": [
        "Next, we will analyze the scenario in presence of noise. Go back to the interactive plot above and play with the `snr_db` slider. The larger the value, the larger the noise and the uncertainty in the position of our receiver will also increase. \n",
        "\n",
        "The 3 circles do not intersect anymore!"
      ]
    },
    {
      "cell_type": "markdown",
      "metadata": {
        "id": "7K9vxWu5zPbj"
      },
      "source": [
        "**Exercise 4**\n",
        "\n",
        "**Analyze this noise function and describe it. Which kind of noise is added?**\n",
        "\n",
        "Tip: in Python try to use the `help(<function>)` command to get the description \n",
        "of a particular method or function\n",
        "\n",
        "\n",
        "\n"
      ]
    },
    {
      "cell_type": "markdown",
      "metadata": {
        "id": "-aKOi01-oF4F"
      },
      "source": [
        "## Finding receiver position with noisy measurements\n",
        "\n",
        "As mentioned before the circles won’t intersect anymore if the measurements are affected by noise. Therefore, we will analyze how to estimate the position from the measured data in these scenarios, in order to obtain a more accurate position. In our case, we will choose the NLS (Non- Linear Least Square) criterion since the function of the position `u` is non-linear. This criterion minimizes the square error, however do not expect this estimation will have some noise and, depending on the geometry of the scenario, it may converge to wrong positions: for instance in the case if 2 circles intersect in 2 positions and the third is between them.\n",
        "\n",
        "In this practice, the solution will be estimated by means of an iterative algorithm called **Steepest descent**, as we will analyze next. The Non-Linear Least Square Steepest Descent algorithm is encapsulated in the function `steepest_descent` in the code above."
      ]
    },
    {
      "cell_type": "code",
      "metadata": {
        "id": "YC-MDyRfgSxH"
      },
      "source": [
        "\n",
        "# Number of iterations\n",
        "num_iterations = 30;\n",
        "\n",
        "# Initial estimation of the position (initial guess also known as apriori)\n",
        "apriori = (5, 2)\n",
        "\n",
        "# Mu step\n",
        "mu_step = 0.1\n",
        "\n",
        "estimations = steepest_descent(nodes, ranges, apriori, step=mu_step, num_iterations=num_iterations)\n",
        "final_estimation = estimations[-1]"
      ],
      "execution_count": null,
      "outputs": []
    },
    {
      "cell_type": "markdown",
      "metadata": {
        "id": "K80GDSg-P715"
      },
      "source": [
        "The following cell plots the final result (the node positions, the true position as specified above as well as the estimated position with the Steepest Descent technique"
      ]
    },
    {
      "cell_type": "code",
      "metadata": {
        "colab": {
          "base_uri": "https://localhost:8080/",
          "height": 283
        },
        "id": "_HpTi1s-qcUQ",
        "outputId": "85af7af4-3a9b-4e0e-abd2-db11dc9dbf48"
      },
      "source": [
        "# All solutions estimated by the SD algorithm\n",
        "plt.plot(estimations[:, 0], estimations[:, 1], '.', color='grey')\n",
        "\n",
        "# Last solution estimated by the SD algorithm\n",
        "plt.plot(final_estimation[0], final_estimation[1], 'D', color='black', markersize=10)\n",
        "\n",
        "# True position\n",
        "plt.plot(true_position[0], true_position[1], 'D', color='blue', markersize=10)\n",
        "\n",
        "# Nodes\n",
        "plt.plot(node_x_values, node_y_values, 'D', c='red', markersize=10)"
      ],
      "execution_count": null,
      "outputs": [
        {
          "output_type": "execute_result",
          "data": {
            "text/plain": [
              "[<matplotlib.lines.Line2D at 0x7f3f3d54a510>]"
            ]
          },
          "metadata": {},
          "execution_count": 113
        },
        {
          "output_type": "display_data",
          "data": {
            "image/png": "[encoded data removed]",
            "text/plain": [
              "<Figure size 432x288 with 1 Axes>"
            ]
          },
          "metadata": {
            "needs_background": "light"
          }
        }
      ]
    },
    {
      "cell_type": "markdown",
      "metadata": {
        "id": "QCk0Imy1SEuf"
      },
      "source": [
        "<strong>\n",
        "Exercise 5\n",
        "\n",
        "Set a *high* SNR value (`snr_db`), between 20dB and 30dB. As you know, SNR stands for Signal-to-Noise Ratio, therefore, what do you think a *high SNR ratio* mean? Run the cells and analyze the results obtained in function of the different parameters:\n",
        "\n",
        "- the initial estimate of the position\n",
        "- the number of iterations\n",
        "- the step size of the algorithm\n",
        "\n",
        "How each of these parameters affect the final estimate obtained? Justify the answers.\n",
        "</strong>"
      ]
    },
    {
      "cell_type": "markdown",
      "metadata": {
        "id": "BffdbNlKSgU7"
      },
      "source": [
        "<strong>\n",
        "Exercise 6\n",
        "\n",
        "Perform the same analysis of the previous exercise but using now a *lower* SNR (below 10dB). Are the intersection between the circles more defined than the previous exercise? How the noise level on the measurements affect the final result? Which parameters need to be changed in order to compensate this higher noise level? Justify the answers.\n",
        "</strong>"
      ]
    },
    {
      "cell_type": "code",
      "metadata": {
        "id": "beyYeddQ3BKr"
      },
      "source": [
        ""
      ],
      "execution_count": null,
      "outputs": []
    }
  ]
}
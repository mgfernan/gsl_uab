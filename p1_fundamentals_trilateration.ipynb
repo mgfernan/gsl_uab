{
  "nbformat": 4,
  "nbformat_minor": 0,
  "metadata": {
    "colab": {
      "name": "p1_fundamentals_trilateration.ipynb",
      "provenance": [],
      "collapsed_sections": [],
      "authorship_tag": "ABX9TyMqm1mdX0B6pXITEv0W09rS",
      "include_colab_link": true
    },
    "kernelspec": {
      "name": "python3",
      "display_name": "Python 3"
    },
    "language_info": {
      "name": "python"
    },
    "widgets": {
      "application/vnd.jupyter.widget-state+json": {
        "5d3ac81253cc4b949467c034b1b45537": {
          "model_module": "@jupyter-widgets/controls",
          "model_name": "VBoxModel",
          "model_module_version": "1.5.0",
          "state": {
            "_view_name": "VBoxView",
            "_dom_classes": [
              "widget-interact"
            ],
            "_model_name": "VBoxModel",
            "_view_module": "@jupyter-widgets/controls",
            "_model_module_version": "1.5.0",
            "_view_count": null,
            "_view_module_version": "1.5.0",
            "box_style": "",
            "layout": "IPY_MODEL_65d7a3005738437599d7f364cea93278",
            "_model_module": "@jupyter-widgets/controls",
            "children": [
              "IPY_MODEL_2afd71a4fea34d9b99ede17d97498e74",
              "IPY_MODEL_0a800758728549c2abf07905cf410324",
              "IPY_MODEL_f781733329034af2ab938163635b1192",
              "IPY_MODEL_d9679ff54336450bb629193bbe56a4bb"
            ]
          }
        },
        "65d7a3005738437599d7f364cea93278": {
          "model_module": "@jupyter-widgets/base",
          "model_name": "LayoutModel",
          "model_module_version": "1.2.0",
          "state": {
            "_view_name": "LayoutView",
            "grid_template_rows": null,
            "right": null,
            "justify_content": null,
            "_view_module": "@jupyter-widgets/base",
            "overflow": null,
            "_model_module_version": "1.2.0",
            "_view_count": null,
            "flex_flow": null,
            "width": null,
            "min_width": null,
            "border": null,
            "align_items": null,
            "bottom": null,
            "_model_module": "@jupyter-widgets/base",
            "top": null,
            "grid_column": null,
            "overflow_y": null,
            "overflow_x": null,
            "grid_auto_flow": null,
            "grid_area": null,
            "grid_template_columns": null,
            "flex": null,
            "_model_name": "LayoutModel",
            "justify_items": null,
            "grid_row": null,
            "max_height": null,
            "align_content": null,
            "visibility": null,
            "align_self": null,
            "height": null,
            "min_height": null,
            "padding": null,
            "grid_auto_rows": null,
            "grid_gap": null,
            "max_width": null,
            "order": null,
            "_view_module_version": "1.2.0",
            "grid_template_areas": null,
            "object_position": null,
            "object_fit": null,
            "grid_auto_columns": null,
            "margin": null,
            "display": null,
            "left": null
          }
        },
        "2afd71a4fea34d9b99ede17d97498e74": {
          "model_module": "@jupyter-widgets/controls",
          "model_name": "IntSliderModel",
          "model_module_version": "1.5.0",
          "state": {
            "_view_name": "IntSliderView",
            "style": "IPY_MODEL_52ad51372a704a20891ba133b55a61a0",
            "_dom_classes": [],
            "description": "x",
            "step": 1,
            "_model_name": "IntSliderModel",
            "orientation": "horizontal",
            "max": 12,
            "_view_module": "@jupyter-widgets/controls",
            "_model_module_version": "1.5.0",
            "value": 5,
            "_view_count": null,
            "disabled": false,
            "_view_module_version": "1.5.0",
            "min": -4,
            "continuous_update": true,
            "readout_format": "d",
            "description_tooltip": null,
            "readout": true,
            "_model_module": "@jupyter-widgets/controls",
            "layout": "IPY_MODEL_beb0c180a6624ddd8e96984feacaa4c1"
          }
        },
        "0a800758728549c2abf07905cf410324": {
          "model_module": "@jupyter-widgets/controls",
          "model_name": "IntSliderModel",
          "model_module_version": "1.5.0",
          "state": {
            "_view_name": "IntSliderView",
            "style": "IPY_MODEL_6d092479dd9b4aeb89d5999192d501ce",
            "_dom_classes": [],
            "description": "y",
            "step": 1,
            "_model_name": "IntSliderModel",
            "orientation": "horizontal",
            "max": 12,
            "_view_module": "@jupyter-widgets/controls",
            "_model_module_version": "1.5.0",
            "value": 9,
            "_view_count": null,
            "disabled": false,
            "_view_module_version": "1.5.0",
            "min": -4,
            "continuous_update": true,
            "readout_format": "d",
            "description_tooltip": null,
            "readout": true,
            "_model_module": "@jupyter-widgets/controls",
            "layout": "IPY_MODEL_744d1ea9fae64df396777523435fba14"
          }
        },
        "f781733329034af2ab938163635b1192": {
          "model_module": "@jupyter-widgets/controls",
          "model_name": "IntSliderModel",
          "model_module_version": "1.5.0",
          "state": {
            "_view_name": "IntSliderView",
            "style": "IPY_MODEL_637844028d2f4686bedf558a8ad965f6",
            "_dom_classes": [],
            "description": "snr_db",
            "step": 1,
            "_model_name": "IntSliderModel",
            "orientation": "horizontal",
            "max": 30,
            "_view_module": "@jupyter-widgets/controls",
            "_model_module_version": "1.5.0",
            "value": 0,
            "_view_count": null,
            "disabled": false,
            "_view_module_version": "1.5.0",
            "min": 0,
            "continuous_update": true,
            "readout_format": "d",
            "description_tooltip": null,
            "readout": true,
            "_model_module": "@jupyter-widgets/controls",
            "layout": "IPY_MODEL_e3a5cd13a22149dbb96db721816903ae"
          }
        },
        "d9679ff54336450bb629193bbe56a4bb": {
          "model_module": "@jupyter-widgets/output",
          "model_name": "OutputModel",
          "model_module_version": "1.0.0",
          "state": {
            "_view_name": "OutputView",
            "msg_id": "",
            "_dom_classes": [],
            "_model_name": "OutputModel",
            "outputs": [
              {
                "output_type": "display_data",
                "data": {
                  "image/png": "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\n",
                  "text/plain": "<Figure size 432x288 with 1 Axes>"
                },
                "metadata": {
                  "needs_background": "light"
                }
              }
            ],
            "_view_module": "@jupyter-widgets/output",
            "_model_module_version": "1.0.0",
            "_view_count": null,
            "_view_module_version": "1.0.0",
            "layout": "IPY_MODEL_9a2f6ea6c5274f55b7669cdd20e258ba",
            "_model_module": "@jupyter-widgets/output"
          }
        },
        "52ad51372a704a20891ba133b55a61a0": {
          "model_module": "@jupyter-widgets/controls",
          "model_name": "SliderStyleModel",
          "model_module_version": "1.5.0",
          "state": {
            "_view_name": "StyleView",
            "handle_color": null,
            "_model_name": "SliderStyleModel",
            "description_width": "",
            "_view_module": "@jupyter-widgets/base",
            "_model_module_version": "1.5.0",
            "_view_count": null,
            "_view_module_version": "1.2.0",
            "_model_module": "@jupyter-widgets/controls"
          }
        },
        "beb0c180a6624ddd8e96984feacaa4c1": {
          "model_module": "@jupyter-widgets/base",
          "model_name": "LayoutModel",
          "model_module_version": "1.2.0",
          "state": {
            "_view_name": "LayoutView",
            "grid_template_rows": null,
            "right": null,
            "justify_content": null,
            "_view_module": "@jupyter-widgets/base",
            "overflow": null,
            "_model_module_version": "1.2.0",
            "_view_count": null,
            "flex_flow": null,
            "width": null,
            "min_width": null,
            "border": null,
            "align_items": null,
            "bottom": null,
            "_model_module": "@jupyter-widgets/base",
            "top": null,
            "grid_column": null,
            "overflow_y": null,
            "overflow_x": null,
            "grid_auto_flow": null,
            "grid_area": null,
            "grid_template_columns": null,
            "flex": null,
            "_model_name": "LayoutModel",
            "justify_items": null,
            "grid_row": null,
            "max_height": null,
            "align_content": null,
            "visibility": null,
            "align_self": null,
            "height": null,
            "min_height": null,
            "padding": null,
            "grid_auto_rows": null,
            "grid_gap": null,
            "max_width": null,
            "order": null,
            "_view_module_version": "1.2.0",
            "grid_template_areas": null,
            "object_position": null,
            "object_fit": null,
            "grid_auto_columns": null,
            "margin": null,
            "display": null,
            "left": null
          }
        },
        "6d092479dd9b4aeb89d5999192d501ce": {
          "model_module": "@jupyter-widgets/controls",
          "model_name": "SliderStyleModel",
          "model_module_version": "1.5.0",
          "state": {
            "_view_name": "StyleView",
            "handle_color": null,
            "_model_name": "SliderStyleModel",
            "description_width": "",
            "_view_module": "@jupyter-widgets/base",
            "_model_module_version": "1.5.0",
            "_view_count": null,
            "_view_module_version": "1.2.0",
            "_model_module": "@jupyter-widgets/controls"
          }
        },
        "744d1ea9fae64df396777523435fba14": {
          "model_module": "@jupyter-widgets/base",
          "model_name": "LayoutModel",
          "model_module_version": "1.2.0",
          "state": {
            "_view_name": "LayoutView",
            "grid_template_rows": null,
            "right": null,
            "justify_content": null,
            "_view_module": "@jupyter-widgets/base",
            "overflow": null,
            "_model_module_version": "1.2.0",
            "_view_count": null,
            "flex_flow": null,
            "width": null,
            "min_width": null,
            "border": null,
            "align_items": null,
            "bottom": null,
            "_model_module": "@jupyter-widgets/base",
            "top": null,
            "grid_column": null,
            "overflow_y": null,
            "overflow_x": null,
            "grid_auto_flow": null,
            "grid_area": null,
            "grid_template_columns": null,
            "flex": null,
            "_model_name": "LayoutModel",
            "justify_items": null,
            "grid_row": null,
            "max_height": null,
            "align_content": null,
            "visibility": null,
            "align_self": null,
            "height": null,
            "min_height": null,
            "padding": null,
            "grid_auto_rows": null,
            "grid_gap": null,
            "max_width": null,
            "order": null,
            "_view_module_version": "1.2.0",
            "grid_template_areas": null,
            "object_position": null,
            "object_fit": null,
            "grid_auto_columns": null,
            "margin": null,
            "display": null,
            "left": null
          }
        },
        "637844028d2f4686bedf558a8ad965f6": {
          "model_module": "@jupyter-widgets/controls",
          "model_name": "SliderStyleModel",
          "model_module_version": "1.5.0",
          "state": {
            "_view_name": "StyleView",
            "handle_color": null,
            "_model_name": "SliderStyleModel",
            "description_width": "",
            "_view_module": "@jupyter-widgets/base",
            "_model_module_version": "1.5.0",
            "_view_count": null,
            "_view_module_version": "1.2.0",
            "_model_module": "@jupyter-widgets/controls"
          }
        },
        "e3a5cd13a22149dbb96db721816903ae": {
          "model_module": "@jupyter-widgets/base",
          "model_name": "LayoutModel",
          "model_module_version": "1.2.0",
          "state": {
            "_view_name": "LayoutView",
            "grid_template_rows": null,
            "right": null,
            "justify_content": null,
            "_view_module": "@jupyter-widgets/base",
            "overflow": null,
            "_model_module_version": "1.2.0",
            "_view_count": null,
            "flex_flow": null,
            "width": null,
            "min_width": null,
            "border": null,
            "align_items": null,
            "bottom": null,
            "_model_module": "@jupyter-widgets/base",
            "top": null,
            "grid_column": null,
            "overflow_y": null,
            "overflow_x": null,
            "grid_auto_flow": null,
            "grid_area": null,
            "grid_template_columns": null,
            "flex": null,
            "_model_name": "LayoutModel",
            "justify_items": null,
            "grid_row": null,
            "max_height": null,
            "align_content": null,
            "visibility": null,
            "align_self": null,
            "height": null,
            "min_height": null,
            "padding": null,
            "grid_auto_rows": null,
            "grid_gap": null,
            "max_width": null,
            "order": null,
            "_view_module_version": "1.2.0",
            "grid_template_areas": null,
            "object_position": null,
            "object_fit": null,
            "grid_auto_columns": null,
            "margin": null,
            "display": null,
            "left": null
          }
        },
        "9a2f6ea6c5274f55b7669cdd20e258ba": {
          "model_module": "@jupyter-widgets/base",
          "model_name": "LayoutModel",
          "model_module_version": "1.2.0",
          "state": {
            "_view_name": "LayoutView",
            "grid_template_rows": null,
            "right": null,
            "justify_content": null,
            "_view_module": "@jupyter-widgets/base",
            "overflow": null,
            "_model_module_version": "1.2.0",
            "_view_count": null,
            "flex_flow": null,
            "width": null,
            "min_width": null,
            "border": null,
            "align_items": null,
            "bottom": null,
            "_model_module": "@jupyter-widgets/base",
            "top": null,
            "grid_column": null,
            "overflow_y": null,
            "overflow_x": null,
            "grid_auto_flow": null,
            "grid_area": null,
            "grid_template_columns": null,
            "flex": null,
            "_model_name": "LayoutModel",
            "justify_items": null,
            "grid_row": null,
            "max_height": null,
            "align_content": null,
            "visibility": null,
            "align_self": null,
            "height": null,
            "min_height": null,
            "padding": null,
            "grid_auto_rows": null,
            "grid_gap": null,
            "max_width": null,
            "order": null,
            "_view_module_version": "1.2.0",
            "grid_template_areas": null,
            "object_position": null,
            "object_fit": null,
            "grid_auto_columns": null,
            "margin": null,
            "display": null,
            "left": null
          }
        }
      }
    }
  },
  "cells": [
    {
      "cell_type": "markdown",
      "metadata": {
        "id": "view-in-github",
        "colab_type": "text"
      },
      "source": [
        "<a href=\"https://colab.research.google.com/github/mgfernan/gsl_uab/blob/main/p1_fundamentals_trilateration.ipynb\" target=\"_parent\"><img src=\"https://colab.research.google.com/assets/colab-badge.svg\" alt=\"Open In Colab\"/></a>"
      ]
    },
    {
      "cell_type": "markdown",
      "metadata": {
        "id": "o6baNCZqKbVf"
      },
      "source": [
        "# LOCALIZATION SYSTEMS – Fundamentals and principles of operation (Practice 1)\n",
        "\n",
        "In this practice, we will focus on the **Time-of-Arrival (TOA)** fundamentals and we will analyze how to estimate the position in presence of noise by means of an **iterative algorithm**. For this purpose, we will use Jupyter Notebook, that is based on Python, a popular high-level programming language."
      ]
    },
    {
      "cell_type": "code",
      "metadata": {
        "id": "lO6AQrGoJmBN"
      },
      "source": [
        "# Add some required libraries\n",
        "import math\n",
        "import numpy as np\n",
        "from typing import List, Tuple\n",
        "\n",
        "import matplotlib.pyplot as plt\n",
        "\n",
        "from ipywidgets import interactive, fixed\n",
        "from IPython.display import display"
      ],
      "execution_count": 29,
      "outputs": []
    },
    {
      "cell_type": "markdown",
      "metadata": {
        "id": "9mts_6MKmsTx"
      },
      "source": [
        "Let's define several methods that will be used later in the practice"
      ]
    },
    {
      "cell_type": "code",
      "metadata": {
        "id": "gSOyrTtxXzfB"
      },
      "source": [
        "# ------------------------------------------------------------------------------\n",
        "\n",
        "def generate_noise_sample(signal:float, snr_dB:float) -> float:\n",
        "\n",
        "  # sigma2--square of sigma, here we use: SNR_dB = 10log(d^2/sigma^2)\n",
        "  sigma2 = signal**2 / math.pow(10, snr_dB / 10)\n",
        "  \n",
        "  # We assume additive gaussian noise\n",
        "  noise = np.random.normal() * math.sqrt(sigma2)\n",
        "\n",
        "  return noise\n",
        "\n",
        "# ------------------------------------------------------------------------------\n",
        "\n",
        "def plot_trilateration(nodes, x, y, snr_db=None):\n",
        "\n",
        "    figure, axes = plt.subplots() \n",
        "\n",
        "    circles = []\n",
        "    ranges = []\n",
        "\n",
        "    for node in nodes:\n",
        "      # Compute the distance between the node and the receiver\n",
        "      radius_m = math.sqrt((node[0]-x)**2 + (node[1]-y)**2)\n",
        "\n",
        "      # Add noise if set\n",
        "      if snr_db:\n",
        "        radius_m += generate_noise_sample(radius_m, snr_db)\n",
        "\n",
        "      ranges.append(radius_m)\n",
        "\n",
        "      axes.text(node[0] + 0.5, node[1] + 0.5, f'{radius_m:.2f} m')\n",
        "\n",
        "      circle = plt.Circle(node, radius=radius_m, fill=False) \n",
        "      circles.append(circle)\n",
        "\n",
        "    for circle in circles:\n",
        "      axes.add_artist(circle)\n",
        "\n",
        "    axes.axis([-10, 20, -10, 20])\n",
        "    axes.set_aspect(\"equal\")\n",
        "    axes.plot(node_x_values, node_y_values, 'D', c='red', markersize=10)\n",
        "    axes.plot(x, y, 'p', c='blue', markersize=10)\n",
        "\n",
        "    plt.title( 'Trilateration principle (without noise)' ) \n",
        "    plt.show()\n",
        "\n",
        "    return ranges\n",
        "\n",
        "# ------------------------------------------------------------------------------\n",
        "\n",
        "def compute_range(from_position:List[float], to_position:List[float]) -> float:\n",
        "\n",
        "  return np.linalg.norm(np.subtract(to_position, from_position))\n",
        "\n",
        "# ------------------------------------------------------------------------------\n",
        "\n",
        "def compute_gradient(nodes:List[List[float]], ranges:List[float], rx_position:List[float]) -> List[float]:\n",
        "\n",
        "  n_nodes = len(nodes)\n",
        "\n",
        "  gradient = [0.0, 0.0]\n",
        "\n",
        "  # Compute the vector differences between the given position and the nodes\n",
        "  pos_diff_to_nodes = np.subtract(rx_position, nodes)\n",
        "\n",
        "  # Compute the norm of each vector difference (i.e. computed ranges)\n",
        "  range_aprioris = np.linalg.norm(pos_diff_to_nodes, axis=1)\n",
        "\n",
        "  # Compute the range differences betweem the incoming (observed) and computed\n",
        "  # This amount is also called pre-fit residuals\n",
        "  range_differences = ranges - range_aprioris\n",
        "\n",
        "  # Compute the partials as division of each component by the range to each node\n",
        "  partials = pos_diff_to_nodes / range_aprioris.reshape(n_nodes, 1)\n",
        "\n",
        "  # Compute the gradient components \n",
        "  gradient_components = range_differences.reshape(n_nodes, 1) * partials\n",
        "  gradient_x = gradient_components[:, 0]\n",
        "  gradient_y = gradient_components[:, 1]\n",
        "\n",
        "  return -2.0 * np.array([sum(gradient_x), sum(gradient_y)])\n",
        "\n",
        "# ------------------------------------------------------------------------------\n",
        "\n",
        "def steepest_descent(nodes,\n",
        "                     ranges,\n",
        "                     apriori:Tuple[float, float] = (0.0, 0.0),\n",
        "                     step:float= 0.1, \n",
        "                     num_iterations:int = 30) -> List[Tuple[float, float]]:\n",
        "\n",
        "    estimations = []\n",
        "\n",
        "    x = np.array(apriori)\n",
        "\n",
        "    for i in range(num_iterations):\n",
        "\n",
        "      gradient = compute_gradient(nodes, ranges, x)\n",
        "\n",
        "      x = np.subtract(x, step * gradient)\n",
        "\n",
        "      estimations.append(x)\n",
        "\n",
        "    return np.array(estimations)\n",
        "\n",
        "# ------------------------------------------------------------------------------"
      ],
      "execution_count": 104,
      "outputs": []
    },
    {
      "cell_type": "markdown",
      "metadata": {
        "id": "TnBmIS4VK3uz"
      },
      "source": [
        "## Scenario definition\n",
        "\n",
        "First, we will define the coordinates for the nodes that will be used for the computation of the user location by means of the TOA technique. "
      ]
    },
    {
      "cell_type": "code",
      "metadata": {
        "id": "ixGciI3vKd3_"
      },
      "source": [
        "# Node coordinates (we create a Numpy Array to take advantage of the cool indexing features)\n",
        "\n",
        "nodes = np.array([\n",
        "         [0, 0],\n",
        "         [0, 10],\n",
        "         [10, 0]\n",
        "])\n",
        "\n",
        "# Number of nodes\n",
        "n_nodes = len(nodes)"
      ],
      "execution_count": 105,
      "outputs": []
    },
    {
      "cell_type": "markdown",
      "metadata": {
        "id": "FJCAK85hLTt9"
      },
      "source": [
        "`nodes` can also be considered a matrix that contains the coordinates of all the nodes; as we will see later, this matrix will be very useful in order to obtain the coordinates for each node by means of an iterative loop (like `for`)."
      ]
    },
    {
      "cell_type": "markdown",
      "metadata": {
        "id": "nI5QY4l4LhDZ"
      },
      "source": [
        "**Exercise 1**\n",
        "\n",
        "**Examine the how the matrix C has been built in order to understand how the coordinates of the nodes are stored (rows and columns). Then, copy and complete the next code in order to plot the coordinates in a figure.**\n",
        "\n"
      ]
    },
    {
      "cell_type": "code",
      "metadata": {
        "colab": {
          "base_uri": "https://localhost:8080/",
          "height": 313
        },
        "id": "2_x50L-ULMiE",
        "outputId": "92a83c8d-9c41-4698-ef3c-01759379c4db"
      },
      "source": [
        "node_x_values = nodes[:,0]\n",
        "node_y_values = nodes[:,1]\n",
        "\n",
        "plt.title('Position of nodes')\n",
        "plt.xlabel('X coordinate')\n",
        "plt.ylabel('Y coordinate')\n",
        "plt.grid()\n",
        "plt.plot(node_x_values, node_y_values, 'D', c='red', markersize=10)\n"
      ],
      "execution_count": 106,
      "outputs": [
        {
          "output_type": "execute_result",
          "data": {
            "text/plain": [
              "[<matplotlib.lines.Line2D at 0x7f3f3ca91cd0>]"
            ]
          },
          "metadata": {},
          "execution_count": 106
        },
        {
          "output_type": "display_data",
          "data": {
            "image/png": "[encoded data removed]",
            "text/plain": [
              "<Figure size 432x288 with 1 Axes>"
            ]
          },
          "metadata": {
            "needs_background": "light"
          }
        }
      ]
    },
    {
      "cell_type": "markdown",
      "metadata": {
        "id": "mgCLJGNuSMwA"
      },
      "source": [
        "The plot function plot expects, respectively, the abscissas and ordinates of the node coordinates in the first two parameters. The third parameter is used to define the style of the dots (`D` indicates diamonds).\n",
        "\n",
        "## Trilateration principle\n",
        "\n",
        "For the first part of the practice, we will assume a **noise-free scenario**. \n",
        "\n",
        "If we have three `nodes` and the corresponding distances (Time-of-arrival) to our receiver, we can compute our position based on trilaterating the 3 circles defined by this distances and the center of the circunference defined by each node. You can practice with the following widget for different receiver positions (move the X and Y sliders). \n",
        "\n",
        "**Note**: For now, leave `snr_db` to 0 (this slider controls the noise of the measurements and will be used later)"
      ]
    },
    {
      "cell_type": "code",
      "metadata": {
        "colab": {
          "base_uri": "https://localhost:8080/",
          "height": 377,
          "referenced_widgets": [
            "5d3ac81253cc4b949467c034b1b45537",
            "65d7a3005738437599d7f364cea93278",
            "2afd71a4fea34d9b99ede17d97498e74",
            "0a800758728549c2abf07905cf410324",
            "f781733329034af2ab938163635b1192",
            "d9679ff54336450bb629193bbe56a4bb",
            "52ad51372a704a20891ba133b55a61a0",
            "beb0c180a6624ddd8e96984feacaa4c1",
            "6d092479dd9b4aeb89d5999192d501ce",
            "744d1ea9fae64df396777523435fba14",
            "637844028d2f4686bedf558a8ad965f6",
            "e3a5cd13a22149dbb96db721816903ae",
            "9a2f6ea6c5274f55b7669cdd20e258ba"
          ]
        },
        "id": "Zqn1Rz22Y2FL",
        "outputId": "dd22a53c-9530-4cd7-8141-5933afb68310"
      },
      "source": [
        "widget = interactive(plot_trilateration, x=4, y=4, snr_db=(0,30), nodes=fixed(nodes))\n",
        "display(widget)"
      ],
      "execution_count": 33,
      "outputs": [
        {
          "output_type": "display_data",
          "data": {
            "application/vnd.jupyter.widget-view+json": {
              "model_id": "5d3ac81253cc4b949467c034b1b45537",
              "version_minor": 0,
              "version_major": 2
            },
            "text/plain": [
              "interactive(children=(IntSlider(value=4, description='x', max=12, min=-4), IntSlider(value=4, description='y',…"
            ]
          },
          "metadata": {}
        }
      ]
    },
    {
      "cell_type": "code",
      "metadata": {
        "colab": {
          "base_uri": "https://localhost:8080/"
        },
        "id": "4F4Mew9Tt_GE",
        "outputId": "9a4db7ac-5a27-4012-c0a1-68e032f85538"
      },
      "source": [
        "# Retrieve the range values from the interactive widget\n",
        "ranges = widget.result\n",
        "ranges"
      ],
      "execution_count": 107,
      "outputs": [
        {
          "output_type": "execute_result",
          "data": {
            "text/plain": [
              "[8.129151595794104, 6.228401554289452, 10.494165156642183]"
            ]
          },
          "metadata": {},
          "execution_count": 107
        }
      ]
    },
    {
      "cell_type": "code",
      "metadata": {
        "colab": {
          "base_uri": "https://localhost:8080/"
        },
        "id": "6joBkXDeNhNO",
        "outputId": "66d9673d-54c8-471c-c5fa-7cdfd4d1973e"
      },
      "source": [
        "# Retrieve the true position from the interactive widget\n",
        "input_values = {c.description:c.value for c in widget.children if hasattr(c, 'description') and c.description in 'xy'}\n",
        "true_position = [input_values['x'], input_values['y']]\n",
        "true_position"
      ],
      "execution_count": 108,
      "outputs": [
        {
          "output_type": "execute_result",
          "data": {
            "text/plain": [
              "[5, 9]"
            ]
          },
          "metadata": {},
          "execution_count": 108
        }
      ]
    },
    {
      "cell_type": "markdown",
      "metadata": {
        "id": "DaJTsatzge8p"
      },
      "source": [
        "**Exercise 3**\n",
        "\n",
        "**Given a known set of coordinates for the user terminal, compute all the ranges to each node by means of the Euclidian distance with respect to the coordinates of the nodes. Verify that the ranges are consistent with the plot above. Compute the Time of arrival (TOA) for these ranges.**"
      ]
    },
    {
      "cell_type": "markdown",
      "metadata": {
        "id": "a-OkjftBhCmD"
      },
      "source": [
        "Next, we will analyze the scenario in presence of noise. Go back to the interactive plot above and play with the `snr_db` slider. The larger the value, the larger the noise and the uncertainty in the position of our receiver will also increase. \n",
        "\n",
        "The 3 circles do not intersect anymore!"
      ]
    },
    {
      "cell_type": "markdown",
      "metadata": {
        "id": "7K9vxWu5zPbj"
      },
      "source": [
        "**Exercise 4**\n",
        "\n",
        "**Analyze this noise function and describe it. Which kind of noise is added?**\n",
        "\n",
        "Tip: in Python try to use the `help(<function>)` command to get the description \n",
        "of a particular method or function\n",
        "\n",
        "\n",
        "\n"
      ]
    },
    {
      "cell_type": "markdown",
      "metadata": {
        "id": "-aKOi01-oF4F"
      },
      "source": [
        "## Finding receiver position with noisy measurements\n",
        "\n",
        "As mentioned before the circles won’t intersect anymore if the measurements are affected by noise. Therefore, we will analyze how to estimate the position from the measured data in these scenarios, in order to obtain a more accurate position. In our case, we will choose the NLS (Non- Linear Least Square) criterion since the function of the position `u` is non-linear. This criterion minimizes the square error, however do not expect this estimation will have some noise and, depending on the geometry of the scenario, it may converge to wrong positions: for instance in the case if 2 circles intersect in 2 positions and the third is between them.\n",
        "\n",
        "In this practice, the solution will be estimated by means of an iterative algorithm called **Steepest descent**, as we will analyze next. The Non-Linear Least Square Steepest Descent algorithm is encapsulated in the function `steepest_descent` in the code above."
      ]
    },
    {
      "cell_type": "code",
      "metadata": {
        "id": "YC-MDyRfgSxH"
      },
      "source": [
        "\n",
        "# Number of iterations\n",
        "num_iterations = 30;\n",
        "\n",
        "# Initial estimation of the position (initial guess also known as apriori)\n",
        "apriori = (5, 2)\n",
        "\n",
        "# Mu step\n",
        "mu_step = 0.1\n",
        "\n",
        "estimations = steepest_descent(nodes, ranges, apriori, step=mu_step, num_iterations=num_iterations)\n",
        "final_estimation = estimations[-1]"
      ],
      "execution_count": 109,
      "outputs": []
    },
    {
      "cell_type": "markdown",
      "metadata": {
        "id": "K80GDSg-P715"
      },
      "source": [
        "The following cell plots the final result (the node positions, the true position as specified above as well as the estimated position with the Steepest Descent technique"
      ]
    },
    {
      "cell_type": "code",
      "metadata": {
        "colab": {
          "base_uri": "https://localhost:8080/",
          "height": 283
        },
        "id": "_HpTi1s-qcUQ",
        "outputId": "85af7af4-3a9b-4e0e-abd2-db11dc9dbf48"
      },
      "source": [
        "# All solutions estimated by the SD algorithm\n",
        "plt.plot(estimations[:, 0], estimations[:, 1], '.', color='grey')\n",
        "\n",
        "# Last solution estimated by the SD algorithm\n",
        "plt.plot(final_estimation[0], final_estimation[1], 'D', color='black', markersize=10)\n",
        "\n",
        "# True position\n",
        "plt.plot(true_position[0], true_position[1], 'D', color='blue', markersize=10)\n",
        "\n",
        "# Nodes\n",
        "plt.plot(node_x_values, node_y_values, 'D', c='red', markersize=10)"
      ],
      "execution_count": 113,
      "outputs": [
        {
          "output_type": "execute_result",
          "data": {
            "text/plain": [
              "[<matplotlib.lines.Line2D at 0x7f3f3d54a510>]"
            ]
          },
          "metadata": {},
          "execution_count": 113
        },
        {
          "output_type": "display_data",
          "data": {
            "image/png": "[encoded data removed]",
            "text/plain": [
              "<Figure size 432x288 with 1 Axes>"
            ]
          },
          "metadata": {
            "needs_background": "light"
          }
        }
      ]
    },
    {
      "cell_type": "markdown",
      "metadata": {
        "id": "QCk0Imy1SEuf"
      },
      "source": [
        "**Exercise 5**\n",
        "\n",
        "Play with different SNR values (`snr_db`). Run the cells and analyze the results obtained in function of the different parameters:\n",
        "\n",
        "- the initial estimate of the position\n",
        "- the number of iterations\n",
        "- the step size of the algorithm\n",
        "\n",
        "How each of these parameters affect the final estimate obtained? Justify the answers."
      ]
    },
    {
      "cell_type": "markdown",
      "metadata": {
        "id": "BffdbNlKSgU7"
      },
      "source": [
        "**Exercise 6**\n",
        "\n",
        "Perform the same analysis of the previous exercise but using now a lower SNR. How the noise level on the measurements affect the final result? Which parameters need to be changed in order to compensate this higher noise level? Justify the answers."
      ]
    }
  ]
}
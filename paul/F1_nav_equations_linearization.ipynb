{
  "nbformat": 4,
  "nbformat_minor": 0,
  "metadata": {
    "colab": {
      "provenance": [],
      "authorship_tag": "ABX9TyNpolJ+arEC94uIeYAEPCU7",
      "include_colab_link": true
    },
    "kernelspec": {
      "name": "python3",
      "display_name": "Python 3"
    },
    "language_info": {
      "name": "python"
    }
  },
  "cells": [
    {
      "cell_type": "markdown",
      "metadata": {
        "id": "view-in-github",
        "colab_type": "text"
      },
      "source": [
        "<a href=\"https://colab.research.google.com/github/mgfernan/gsl_uab/blob/main/paul/F1_nav_equations_linearization.ipynb\" target=\"_parent\"><img src=\"https://colab.research.google.com/assets/colab-badge.svg\" alt=\"Open In Colab\"/></a>"
      ]
    },
    {
      "cell_type": "markdown",
      "source": [
        "# F1 Linearizing the location problem using Taylor expansion (numerical case)\n",
        "\n",
        "\n",
        "$$\n",
        "\\vec b = \\bf{A} \\cdot \\vec s\n",
        "$$\n",
        "\n",
        "where:\n",
        "- $\\vec b$ is the vector with the differences between the *observed* measurements provided by the measurement engine and the *computed* distances (assuming a certain *a-priori* and a certain propagation model). The difference between observed and computed distances are also called *prefits*\n",
        "- $\\bf{A}$ is the design matrix, that contains the partials and coefficients\n",
        "- $\\vec s$ contains the parameters to estimate (i.e. *deltas* relative to the *a-priori* position $(x_0, y_0)$\n",
        "\n",
        "Using the Taylor expansion, the *navigation function* ($f(x)$) can be linearized using this system of equations:\n",
        "\n",
        "$$\n",
        "\\begin{bmatrix}\n",
        " d_1 - d_{1,0} \\\\\n",
        " d_2 - d_{2,0} \\\\\n",
        "\\end{bmatrix} =\n",
        "\\begin{bmatrix}\n",
        " -\\frac{x_1-x_0}{d_{1,0}} & -\\frac{y_1-y_0}{d_{1,0}} \\\\\n",
        " -\\frac{x_2-x_0}{d_{2,0}} & -\\frac{y_2-y_0}{d_{2,0}} \\\\\n",
        "\\end{bmatrix}\n",
        "\\cdot\n",
        "\\begin{bmatrix}\n",
        " \\Delta x \\\\\n",
        " \\Delta y \\\\\n",
        "\\end{bmatrix}\n",
        "$$"
      ],
      "metadata": {
        "id": "4a_dW9KUF6SP"
      }
    },
    {
      "cell_type": "code",
      "source": [
        "# Import numpy for vector operations\n",
        "import numpy as np"
      ],
      "metadata": {
        "id": "zOTEJcDYJPyz"
      },
      "execution_count": null,
      "outputs": []
    },
    {
      "cell_type": "code",
      "source": [
        "# Define the nodes and its associated positions (co-planar case, we need at least 3 nodes so that the 3 circles intersect in a single point)\n",
        "nodes = np.array([[0, 10], [10, 0], [10, 10]])"
      ],
      "metadata": {
        "id": "jWjh2o0ZL6q7"
      },
      "execution_count": null,
      "outputs": []
    },
    {
      "cell_type": "code",
      "source": [
        "# Actual position of the rover that we need to estimate. We define it here to compute the observed ranges (i.e. the ones delivered by the measurement engine)\n",
        "r = np.array((2.1, 3.4))\n",
        "\n",
        "# Observed ranges (i.e. delivered by the measurement engine). It has been assumed ideal conditions (no noise)\n",
        "d = np.linalg.norm(r - nodes, axis=1)"
      ],
      "metadata": {
        "id": "MMKXgaa1Le21"
      },
      "execution_count": null,
      "outputs": []
    },
    {
      "cell_type": "code",
      "source": [
        "# To solve the navigation problem, we need an apriori\n",
        "r_0 = np.array((2, 3))"
      ],
      "metadata": {
        "id": "nedkNjEjJg2V"
      },
      "execution_count": null,
      "outputs": []
    },
    {
      "cell_type": "code",
      "source": [
        "# Based on this apriori, the positioning engine obtains the \"computed ranges\" based on a propagation model\n",
        "d_0 = np.linalg.norm(r_0 - nodes, axis=1)\n",
        "d_0"
      ],
      "metadata": {
        "id": "xQ9GRZSBKBA1"
      },
      "execution_count": null,
      "outputs": []
    },
    {
      "cell_type": "code",
      "source": [
        "# The measurement engine provides with the observed ranges, and the positioning engine obtains the \"computed ranges\", that will allow to compute the prefit array (b)\n",
        "b = d - d_0\n",
        "b"
      ],
      "metadata": {
        "id": "YQvTIk9vKKBu"
      },
      "execution_count": null,
      "outputs": []
    },
    {
      "cell_type": "code",
      "source": [
        "# Compute the \"design matrix\" with the linearized coefficients\n",
        "A = -(nodes - r_0) / d_0[:, np.newaxis]"
      ],
      "metadata": {
        "id": "p9NkyepiKVmM"
      },
      "execution_count": null,
      "outputs": []
    },
    {
      "cell_type": "code",
      "source": [
        "# With simple matrix inversion, we can obtain the \"deltas\" relative to the a-priori\n",
        "deltas = np.linalg.inv(A.T @ A) @ A.T @ b\n",
        "deltas"
      ],
      "metadata": {
        "id": "J2tNZe2MKwLC"
      },
      "execution_count": null,
      "outputs": []
    },
    {
      "cell_type": "code",
      "source": [
        "# Which will finally allow to obtain the position estiamte\n",
        "r_0 + deltas"
      ],
      "metadata": {
        "id": "m9L2n_PfLGjt"
      },
      "execution_count": null,
      "outputs": []
    }
  ]
}
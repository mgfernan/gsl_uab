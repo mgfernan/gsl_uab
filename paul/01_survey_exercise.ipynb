{
  "nbformat": 4,
  "nbformat_minor": 0,
  "metadata": {
    "colab": {
      "provenance": [],
      "collapsed_sections": [],
      "authorship_tag": "ABX9TyMZxkTIH0kOQ8rfJD9ibgTr",
      "include_colab_link": true
    },
    "kernelspec": {
      "name": "python3",
      "display_name": "Python 3"
    },
    "language_info": {
      "name": "python"
    }
  },
  "cells": [
    {
      "cell_type": "markdown",
      "metadata": {
        "id": "view-in-github",
        "colab_type": "text"
      },
      "source": [
        "<a href=\"https://colab.research.google.com/github/mgfernan/gsl_uab/blob/main/paul_01_survey_exercise.ipynb\" target=\"_parent\"><img src=\"https://colab.research.google.com/assets/colab-badge.svg\" alt=\"Open In Colab\"/></a>"
      ]
    },
    {
      "cell_type": "markdown",
      "source": [
        "# Computing node positions\n",
        "\n",
        "One of the requirements to obtain the position of a user terminal is to know the node positions. But how are they obtained? One option is by performing a survey campaign (using for instance Total Stations). Total stations measure angles and distances. \n",
        "\n",
        "This notebook illustrate how to calculate the position of 4 nodes (pentagons) by means of **measurements** of **angles** and distances similar to those provided by [total stations](https://en.wikipedia.org/wiki/Total_station).\n"
      ],
      "metadata": {
        "id": "1nWTQdPrHLg5"
      }
    },
    {
      "cell_type": "code",
      "source": [
        "import math\n",
        "from dataclasses import dataclass\n",
        "\n",
        "@dataclass\n",
        "class Measurement(object):\n",
        "  \"\"\"\n",
        "  Class to hold the measurements provided by e.g. a total station\n",
        "  \"\"\"\n",
        "  angle_deg: float\n",
        "  distance_m: float\n",
        "\n",
        "@dataclass\n",
        "class Position(object):\n",
        "  \"\"\"\n",
        "  Class to hold the 2D positions of nodes and points\n",
        "  \"\"\"\n",
        "  x_m: float\n",
        "  y_m: float\n",
        "\n",
        "  def __repr__(self):\n",
        "\n",
        "    return f\"({self.x_m:0.2f} , {self.y_m:0.2f})\""
      ],
      "metadata": {
        "id": "Ey8WnhXocwI-"
      },
      "execution_count": 1,
      "outputs": []
    },
    {
      "cell_type": "markdown",
      "source": [
        "Compute the position of each node, based on the measurements provided by the Total station"
      ],
      "metadata": {
        "id": "lmbwNE69JAcY"
      }
    },
    {
      "cell_type": "code",
      "execution_count": 8,
      "metadata": {
        "id": "YoGenwpAcd5v"
      },
      "outputs": [],
      "source": [
        "# Position of the reference point\n",
        "ref_a = Position(10, 20)\n",
        "\n",
        "# List of measurements provided by a Total station\n",
        "measurements = [ \n",
        "    Measurement(30, 33.5),\n",
        "    Measurement(60, 56.2),\n",
        "    Measurement(75, 53.6),\n",
        "    Measurement(105, 11.7)]\n",
        "\n",
        "# For each measurement to a node, compute the node's position\n",
        "nodes = []\n",
        "\n",
        "for measurement in measurements:\n",
        "\n",
        "  angle_rad = math.radians(measurement.angle_deg)\n",
        "\n",
        "  x = measurement.distance_m * math.sin(angle_rad)\n",
        "  y = measurement.distance_m * math.cos(angle_rad)\n",
        "\n",
        "\n",
        "  node = Position(ref_a.x_m + x, ref_a.y_m + y)\n",
        "\n",
        "  dx = (node.x_m-ref_a.x_m)\n",
        "  dy = (node.y_m-ref_a.y_m)\n",
        "\n",
        "  nodes.append(node)\n"
      ]
    },
    {
      "cell_type": "markdown",
      "source": [
        "Plot the results, showing the position of the reference point as well as the position of the nodes"
      ],
      "metadata": {
        "id": "OclRyad7I2TH"
      }
    },
    {
      "cell_type": "code",
      "source": [
        "import matplotlib.pyplot as plt\n",
        "\n",
        "# Position of the reference point\n",
        "plt.plot(ref_a.x_m, ref_a.y_m, 'or')\n",
        "\n",
        "for node in nodes:\n",
        "  # Position of the node\n",
        "  plt.plot(node.x_m, node.y_m, 'ob')\n",
        "\n",
        "  # Label with the node position\n",
        "  plt.text(node.x_m + 2, node.y_m, str(node))\n"
      ],
      "metadata": {
        "colab": {
          "base_uri": "https://localhost:8080/",
          "height": 266
        },
        "id": "G7tj0mvHddH-",
        "outputId": "636f40dc-8fb2-4ac6-f02a-82bb600f5b16"
      },
      "execution_count": 7,
      "outputs": [
        {
          "output_type": "display_data",
          "data": {
            "text/plain": [
              "<Figure size 432x288 with 1 Axes>"
            ],
            "image/png": "[encoded data removed]"
          },
          "metadata": {
            "needs_background": "light"
          }
        }
      ]
    },
    {
      "cell_type": "code",
      "source": [],
      "metadata": {
        "id": "DPbn4QHtI81y"
      },
      "execution_count": null,
      "outputs": []
    }
  ]
}
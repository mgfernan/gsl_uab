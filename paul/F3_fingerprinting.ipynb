{
  "cells": [
    {
      "cell_type": "markdown",
      "metadata": {
        "colab_type": "text",
        "id": "view-in-github"
      },
      "source": [
        "<a href=\"https://colab.research.google.com/github/mgfernan/gsl_uab/blob/main/paul_F3_fingerprinting.ipynb\" target=\"_parent\"><img src=\"https://colab.research.google.com/assets/colab-badge.svg\" alt=\"Open In Colab\"/></a>"
      ]
    },
    {
      "cell_type": "markdown",
      "metadata": {
        "id": "oTVeRDmCT7TF"
      },
      "source": [
        "# Fingerprinting using RSS\n",
        "\n",
        "Besides using range, position can be also obtained by comparing features observed by the user terminal to locate against a map of these features. This positioning technique is known as [Fingerprinting](https://en.wikipedia.org/wiki/Wi-Fi_positioning_system%23Fingerprinting_based). \n",
        "\n",
        "If Wi-Fi Received Signal Strength (RSS) is used as the feature, a map is built by recording the signal levels of every Wi-Fi Access Point in view at different locations of the map. This information is then stored in a database. To compute the likelihood of being in a given cell (or location of the map), the following expression must be applied to compute the likelihood of being in a given cell:\n",
        "\n",
        "$$\n",
        "<\\Delta P> = \\frac{1}{N} \\sum_{i=1}^N |P_i - P_{rx}|\n",
        "$$\n",
        "\n",
        "The cell with lowest $<\\Delta P>$ represents the cell with highest match in the readings and thus represents the cell at which the terminal is located\n",
        "\n",
        "\n"
      ]
    },
    {
      "cell_type": "code",
      "execution_count": 18,
      "metadata": {
        "id": "fs7Zdq6dbvB2"
      },
      "outputs": [],
      "source": [
        "def compute_delta_P(rss_cell:dict, rss_terminal:dict) -> float:\n",
        "  \"\"\"\n",
        "  Computes the average of differences, for all Wi-Fi nodes seen in the cell,\n",
        "  between the RSS read by a terminal and the expected RSS in the cell. \n",
        "  \"\"\"\n",
        "\n",
        "  sum = 0\n",
        "  n = 0\n",
        "\n",
        "  for w,rss in rss_terminal.items():\n",
        "\n",
        "    if w in rss_cell:\n",
        "        # Compute RSS difference between terminal and cell\n",
        "        diff = abs(rss - rss_cell[w])\n",
        "        sum = sum + diff\n",
        "        n = n + 1\n",
        "\n",
        "  return sum / n"
      ]
    },
    {
      "cell_type": "markdown",
      "metadata": {
        "id": "vMS7URn4bwyB"
      },
      "source": [
        "\n",
        "The RSS Readings of the different Wi-Fi nodes in a room are represented by a 3x3 square. This is the _database_ of the Wi-Fi RSS Fingerprint system.\n",
        "The _room_ that has been divided into 9 squares where three Wi-Fi access points are visible (W1, W2 and W3) and thus we obtain 3 different RSS readings (in dB) at each cell of the map."
      ]
    },
    {
      "cell_type": "code",
      "execution_count": 19,
      "metadata": {
        "id": "gzX9OlwjKR9E"
      },
      "outputs": [],
      "source": [
        "cells = [\n",
        "{ 'label': 'M11', 'W1': -50, 'W2': -80, 'W3': -70},\n",
        "{ 'label': 'M12', 'W1': -55, 'W2': -70, 'W3': -72},\n",
        "{ 'label': 'M13', 'W1': -60, 'W2': -60, 'W3': -75},\n",
        "{ 'label': 'M21', 'W1': -47, 'W2': -85, 'W3': -62},\n",
        "{ 'label': 'M22', 'W1': -56, 'W2': -71, 'W3': -55},\n",
        "{ 'label': 'M23', 'W1': -65, 'W2': -57, 'W3': -49},\n",
        "{ 'label': 'M31', 'W1': -45, 'W2': -90, 'W3': -55},\n",
        "{ 'label': 'M32', 'W1': -57, 'W2': -72, 'W3': -39},\n",
        "{ 'label': 'M33', 'W1': -70, 'W2': -55, 'W3': -23}\n",
        "]"
      ]
    },
    {
      "cell_type": "markdown",
      "metadata": {
        "id": "bu95unFpbf_s"
      },
      "source": [
        "Based on the readings obtained by the user terminal in an unknown position of the map, we need to compute at which cell we are."
      ]
    },
    {
      "cell_type": "code",
      "execution_count": 24,
      "metadata": {
        "colab": {
          "base_uri": "https://localhost:8080/"
        },
        "id": "Z48A6hS2bF85",
        "outputId": "318b3760-3c10-4e38-905f-b09f1cb4f710"
      },
      "outputs": [
        {
          "name": "stdout",
          "output_type": "stream",
          "text": [
            "The terminal is located at M32, which yields a delta P of 2.0\n"
          ]
        }
      ],
      "source": [
        "# This are the RSS readings of a the user terminal\n",
        "rss_terminal = {\n",
        "    'W1': -56.5,\n",
        "    'W2': -71.5,\n",
        "    'W3': -44 \n",
        "}\n",
        "\n",
        "result = None\n",
        "min_delta_P = math.inf\n",
        "\n",
        "for cell in cells:\n",
        "\n",
        "  delta_P = compute_delta_P(cell, rss_terminal)\n",
        "\n",
        "  if delta_P < min_delta_P:\n",
        "    result = cell\n",
        "    min_delta_P = delta_P\n",
        "\n",
        "print(f\"The terminal is located at {result['label']}, which yields a delta P of {min_delta_P}\")"
      ]
    }
  ],
  "metadata": {
    "colab": {
      "authorship_tag": "ABX9TyMz9iuYm3UrMgO621HxXCME",
      "collapsed_sections": [],
      "include_colab_link": true,
      "provenance": []
    },
    "kernelspec": {
      "display_name": "Python 3",
      "name": "python3"
    },
    "language_info": {
      "name": "python"
    }
  },
  "nbformat": 4,
  "nbformat_minor": 0
}

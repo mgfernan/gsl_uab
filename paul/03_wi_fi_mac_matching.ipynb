{
  "nbformat": 4,
  "nbformat_minor": 0,
  "metadata": {
    "colab": {
      "provenance": [],
      "authorship_tag": "ABX9TyM7fJIEpYNbmJTNYB4kduxk",
      "include_colab_link": true
    },
    "kernelspec": {
      "name": "python3",
      "display_name": "Python 3"
    },
    "language_info": {
      "name": "python"
    }
  },
  "cells": [
    {
      "cell_type": "markdown",
      "metadata": {
        "id": "view-in-github",
        "colab_type": "text"
      },
      "source": [
        "<a href=\"https://colab.research.google.com/github/mgfernan/gsl_uab/blob/main/paul/03_wi_fi_mac_matching.ipynb\" target=\"_parent\"><img src=\"https://colab.research.google.com/assets/colab-badge.svg\" alt=\"Open In Colab\"/></a>"
      ]
    },
    {
      "cell_type": "markdown",
      "source": [
        "# Wi-Fi MAC address matching\n",
        "\n",
        "This exercise attempts to compute an average position based on the average of Wi-Fi node positions\n",
        " "
      ],
      "metadata": {
        "id": "VPGZh89jr5rl"
      }
    },
    {
      "cell_type": "code",
      "source": [
        "import matplotlib.pyplot as plt\n",
        "import numpy as np\n"
      ],
      "metadata": {
        "id": "TXMEOeu3sZPY"
      },
      "execution_count": 17,
      "outputs": []
    },
    {
      "cell_type": "markdown",
      "source": [
        "List of nodes (Wi-Fi access points)"
      ],
      "metadata": {
        "id": "xeDfNbEBuQ3p"
      }
    },
    {
      "cell_type": "code",
      "execution_count": 7,
      "metadata": {
        "id": "zxVtAZmQr0FG"
      },
      "outputs": [],
      "source": [
        "wifi_nodes = {\n",
        "    'A': (0,0),\n",
        "    'B': (0,10),\n",
        "    'C': (10, 0),\n",
        "    'D': (10, 10),\n",
        "    'E': (10, 20),\n",
        "    'F': (20, 0),\n",
        "    'G': (20, 10),\n",
        "    'H': (20, 20)\n",
        "}"
      ]
    },
    {
      "cell_type": "markdown",
      "source": [
        "Plot the Wi-Fi Access points"
      ],
      "metadata": {
        "id": "Vr8qMPkWuUj5"
      }
    },
    {
      "cell_type": "code",
      "source": [
        "for node, pos in wifi_nodes.items():\n",
        "  plt.plot(*pos, 'oc', label=node)\n",
        "  plt.text(pos[0] + 1, pos[1], s=f'{node}: {pos}')\n",
        "\n",
        "plt.xlim(-5,30)\n",
        "plt.ylim(-5,25)\n",
        "\n"
      ],
      "metadata": {
        "colab": {
          "base_uri": "https://localhost:8080/",
          "height": 286
        },
        "id": "zCPONDn_scdd",
        "outputId": "85a4eb50-a0e1-49db-eb65-de9a6af3c88b"
      },
      "execution_count": 40,
      "outputs": [
        {
          "output_type": "execute_result",
          "data": {
            "text/plain": [
              "(-5.0, 25.0)"
            ]
          },
          "metadata": {},
          "execution_count": 40
        },
        {
          "output_type": "display_data",
          "data": {
            "text/plain": [
              "<Figure size 432x288 with 1 Axes>"
            ],
            "image/png": "[encoded data removed]"
          },
          "metadata": {
            "needs_background": "light"
          }
        }
      ]
    },
    {
      "cell_type": "markdown",
      "source": [
        "List of MAC addresses (Wi-Fi access points) that are seen by the device (i.e. smartphone)"
      ],
      "metadata": {
        "id": "OPGqtoDyu6-Y"
      }
    },
    {
      "cell_type": "code",
      "source": [
        "seen_macs = ['A', 'C', 'D', 'F']"
      ],
      "metadata": {
        "id": "OT4Q6MDashAd"
      },
      "execution_count": 12,
      "outputs": []
    },
    {
      "cell_type": "markdown",
      "source": [
        "Approximated position is computed as the average of the different positions of the nodes that are being seen by the device"
      ],
      "metadata": {
        "id": "8DHFBzibvAwS"
      }
    },
    {
      "cell_type": "code",
      "source": [
        "x_avg = 0\n",
        "y_avg = 0\n",
        "\n",
        "positions = [wifi_nodes[k] for k in seen_macs]\n",
        "average_position = np.average(positions,axis=0)\n",
        "\n",
        "for node, pos in wifi_nodes.items():\n",
        "  plt.plot(*pos, 'oc', label=node)\n",
        "\n",
        "plt.xlim(-5,30)\n",
        "plt.ylim(-5,25)\n",
        "\n",
        "\n",
        "plt.plot(*average_position, 'ok', label='average')\n",
        "plt.text(average_position[0] + 1, average_position[1], s=f'Device: {average_position}')"
      ],
      "metadata": {
        "colab": {
          "base_uri": "https://localhost:8080/",
          "height": 286
        },
        "id": "VAAhyTSNtGcM",
        "outputId": "f4ed4c7c-3ff1-404d-ba2d-0a461e14a0c3"
      },
      "execution_count": 39,
      "outputs": [
        {
          "output_type": "execute_result",
          "data": {
            "text/plain": [
              "Text(11.0, 2.5, 'Device: [10.   2.5]')"
            ]
          },
          "metadata": {},
          "execution_count": 39
        },
        {
          "output_type": "display_data",
          "data": {
            "text/plain": [
              "<Figure size 432x288 with 1 Axes>"
            ],
            "image/png": "[encoded data removed]"
          },
          "metadata": {
            "needs_background": "light"
          }
        }
      ]
    }
  ]
}
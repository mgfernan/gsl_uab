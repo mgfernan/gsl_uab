{
  "nbformat": 4,
  "nbformat_minor": 0,
  "metadata": {
    "colab": {
      "provenance": [],
      "authorship_tag": "ABX9TyN5dxqV3VG7eGxEb/gcD7py",
      "include_colab_link": true
    },
    "kernelspec": {
      "name": "python3",
      "display_name": "Python 3"
    },
    "language_info": {
      "name": "python"
    }
  },
  "cells": [
    {
      "cell_type": "markdown",
      "metadata": {
        "id": "view-in-github",
        "colab_type": "text"
      },
      "source": [
        "<a href=\"https://colab.research.google.com/github/mgfernan/gsl_uab/blob/main/paul/03_wi_fi_mac_matching.ipynb\" target=\"_parent\"><img src=\"https://colab.research.google.com/assets/colab-badge.svg\" alt=\"Open In Colab\"/></a>"
      ]
    },
    {
      "cell_type": "markdown",
      "source": [
        "# Wi-Fi MAC address matching\n",
        "\n",
        "This exercise attempts to compute an average position based on the average of Wi-Fi node positions\n",
        " "
      ],
      "metadata": {
        "id": "VPGZh89jr5rl"
      }
    },
    {
      "cell_type": "code",
      "source": [
        "import matplotlib.pyplot as plt\n",
        "import numpy as np\n"
      ],
      "metadata": {
        "id": "TXMEOeu3sZPY"
      },
      "execution_count": 17,
      "outputs": []
    },
    {
      "cell_type": "code",
      "execution_count": 7,
      "metadata": {
        "id": "zxVtAZmQr0FG"
      },
      "outputs": [],
      "source": [
        "wifi_nodes = {\n",
        "    'A': (0,0),\n",
        "    'B': (0,10),\n",
        "    'C': (10, 0),\n",
        "    'D': (10, 10),\n",
        "    'E': (10, 20),\n",
        "    'F': (20, 0),\n",
        "    'G': (20, 10),\n",
        "    'H': (20, 20)\n",
        "}"
      ]
    },
    {
      "cell_type": "code",
      "source": [
        "for node, pos in wifi_nodes.items():\n",
        "  plt.plot(*pos, 'o', label=node)\n",
        "  plt.legend()"
      ],
      "metadata": {
        "colab": {
          "base_uri": "https://localhost:8080/",
          "height": 265
        },
        "id": "zCPONDn_scdd",
        "outputId": "76c6ad46-4238-41f4-8d94-f94617071e0e"
      },
      "execution_count": 10,
      "outputs": [
        {
          "output_type": "display_data",
          "data": {
            "text/plain": [
              "<Figure size 432x288 with 1 Axes>"
            ],
            "image/png": "[encoded data removed]"
          },
          "metadata": {
            "needs_background": "light"
          }
        }
      ]
    },
    {
      "cell_type": "code",
      "source": [
        "seen_macs = ['A', 'C', 'D', 'F']"
      ],
      "metadata": {
        "id": "OT4Q6MDashAd"
      },
      "execution_count": 12,
      "outputs": []
    },
    {
      "cell_type": "code",
      "source": [
        "x_avg = 0\n",
        "y_avg = 0\n",
        "\n",
        "positions = [wifi_nodes[k] for k in seen_macs]"
      ],
      "metadata": {
        "id": "VAAhyTSNtGcM"
      },
      "execution_count": 15,
      "outputs": []
    },
    {
      "cell_type": "code",
      "source": [
        "positions"
      ],
      "metadata": {
        "colab": {
          "base_uri": "https://localhost:8080/"
        },
        "id": "pcWBWBjVtYj7",
        "outputId": "cb3976ec-04e8-4983-d9fe-76d5dd242aee"
      },
      "execution_count": 16,
      "outputs": [
        {
          "output_type": "execute_result",
          "data": {
            "text/plain": [
              "[(0, 0), (10, 0), (10, 10), (20, 0)]"
            ]
          },
          "metadata": {},
          "execution_count": 16
        }
      ]
    },
    {
      "cell_type": "code",
      "source": [
        "average_position = np.average(positions,axis=0)"
      ],
      "metadata": {
        "id": "E9QaoH9ktZC8"
      },
      "execution_count": 22,
      "outputs": []
    },
    {
      "cell_type": "code",
      "source": [
        "for node, pos in wifi_nodes.items():\n",
        "  plt.plot(*pos, 'o', label=node)\n",
        "\n",
        "plt.plot(*average_position, 'ob', label='average')\n",
        "plt.legend()\n"
      ],
      "metadata": {
        "colab": {
          "base_uri": "https://localhost:8080/",
          "height": 282
        },
        "id": "tMyBu18yte86",
        "outputId": "fe18defc-a59b-424c-f8fa-b83923c16cb1"
      },
      "execution_count": 24,
      "outputs": [
        {
          "output_type": "execute_result",
          "data": {
            "text/plain": [
              "<matplotlib.legend.Legend at 0x7fae6fde1e20>"
            ]
          },
          "metadata": {},
          "execution_count": 24
        },
        {
          "output_type": "display_data",
          "data": {
            "text/plain": [
              "<Figure size 432x288 with 1 Axes>"
            ],
            "image/png": "[encoded data removed]"
          },
          "metadata": {
            "needs_background": "light"
          }
        }
      ]
    },
    {
      "cell_type": "code",
      "source": [],
      "metadata": {
        "id": "Heo1vdFctugc"
      },
      "execution_count": null,
      "outputs": []
    }
  ]
}
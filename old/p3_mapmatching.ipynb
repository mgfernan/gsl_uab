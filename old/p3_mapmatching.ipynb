{
  "nbformat": 4,
  "nbformat_minor": 0,
  "metadata": {
    "colab": {
      "name": "Mapmatching.ipynb",
      "provenance": [],
      "include_colab_link": true
    },
    "kernelspec": {
      "name": "python3",
      "display_name": "Python 3"
    },
    "language_info": {
      "name": "python"
    }
  },
  "cells": [
    {
      "cell_type": "markdown",
      "metadata": {
        "id": "view-in-github",
        "colab_type": "text"
      },
      "source": [
        "<a href=\"https://colab.research.google.com/github/mgfernan/gsl_uab/blob/main/p3_mapmatching.ipynb\" target=\"_parent\"><img src=\"https://colab.research.google.com/assets/colab-badge.svg\" alt=\"Open In Colab\"/></a>"
      ]
    },
    {
      "cell_type": "markdown",
      "metadata": {
        "id": "m6cQUwlB3jBO"
      },
      "source": [
        "# Map-matching technique using online services\n",
        "\n",
        "This practice is a hands-on activity that allows the usage of online services in the cloud to process GNSS raw measurement data and perform a map-matching.\n",
        "\n",
        "## Jason\n",
        "\n",
        "[Jason](https://jason.rokubun.cat) is the service that converts from GNSS raw measurements (pseudorange, carrier-phase) to position. This service will be used in the LAB and you will need an account and have the credentials ready to execute these tests.\n",
        "\n",
        "We will be using [Jason Python bindings](https://pypi.org/project/jason-gnss/) to interact with Jason service directly via Python, without the need to use the Web frontend. This is convenient when routinary processes need to be submitted.\n",
        "\n",
        "## Mapbox map-matching API\n",
        "\n",
        "[Mapbox map-matching API](https://docs.mapbox.com/help/glossary/map-matching-api) is the other service we will need to run this notebook. You will need to register and obtain a token\n",
        "\n",
        "\n",
        "---\n",
        "\n",
        "## Preliminaries\n",
        "\n",
        "The first step we need to perform is to install several software dependencies into the execution *kernel* and then import some Python packages that will be required later"
      ]
    },
    {
      "cell_type": "code",
      "metadata": {
        "id": "iZHBJdXIZf_G"
      },
      "source": [
        "# External packages\n",
        "!pip install jason-gnss pandas geopandas contextily shapely"
      ],
      "execution_count": null,
      "outputs": []
    },
    {
      "cell_type": "code",
      "metadata": {
        "id": "CEQsIvwLAIf5"
      },
      "source": [
        "# Import libraries\n",
        "import csv\n",
        "import os\n",
        "import requests\n",
        "import zipfile\n",
        "\n",
        "import matplotlib.pyplot as plt\n",
        "import shapely.geometry\n",
        "\n",
        "import pandas as pd\n",
        "import geopandas as gpd\n",
        "import contextily as ctx \n",
        "\n",
        "from jason_gnss import commands as jason"
      ],
      "execution_count": 2,
      "outputs": []
    },
    {
      "cell_type": "markdown",
      "metadata": {
        "id": "DxyHPpkpJ_iQ"
      },
      "source": [
        "The following cell includes helper functions to be used in this notebook"
      ]
    },
    {
      "cell_type": "code",
      "metadata": {
        "id": "GtquxcGj9oy2"
      },
      "source": [
        "def download_file(filename, path='map_matching/'):\n",
        "\n",
        "  url = f'https://raw.githubusercontent.com/mgfernan/gsl_uab/main/{path}/{filename}'\n",
        "\n",
        "  r = requests.get(url)\n",
        "\n",
        "  with open(filename, 'w') as fh:\n",
        "    fh.write(r.content.decode('utf-8'))\n",
        "\n",
        "\n",
        "  return filename\n",
        "\n",
        "def chunks(lst, n):\n",
        "    \"\"\"Yield successive n-sized chunks from lst.\"\"\"\n",
        "    for i in range(0, len(lst), n):\n",
        "        yield lst[i:i + n]"
      ],
      "execution_count": 3,
      "outputs": []
    },
    {
      "cell_type": "markdown",
      "metadata": {
        "id": "-DTBsQtlJspx"
      },
      "source": [
        "The following cell sets up several constants that will be required in the notebook"
      ]
    },
    {
      "cell_type": "code",
      "metadata": {
        "id": "AwagjuxRJqdI"
      },
      "source": [
        "MAPBOX_MAX_N_POINTS = 100"
      ],
      "execution_count": 4,
      "outputs": []
    },
    {
      "cell_type": "markdown",
      "metadata": {
        "id": "7-S6mBo-JxyT"
      },
      "source": [
        "Now is the time to place in this cell the tokens and API keys corresponding to Jason and Mapbox API"
      ]
    },
    {
      "cell_type": "code",
      "metadata": {
        "id": "41nJb0QwJoWz"
      },
      "source": [
        "MAPBOX_ACCESS_TOKEN = '<insert API token>'\n",
        "\n",
        "os.environ['JASON_API_KEY'] = '<insert API key>'\n",
        "os.environ['JASON_SECRET_TOKEN'] = '<insert API token>'"
      ],
      "execution_count": 5,
      "outputs": []
    },
    {
      "cell_type": "markdown",
      "metadata": {
        "id": "EGoRoJ6InFmy"
      },
      "source": [
        "This notebook downoads data sample from a public and external Github repository ([gls_uab](https://github.com/mgfernan/gsl_uab)).\n",
        "\n",
        "We will start first by downloading a sample *RINEX* files, which contains pseudoranges and carrier-phases (among other observables such as Doppler and C/N0)\n",
        "\n",
        "Download sample datafile containing GNSS raw measurements and submit a job to Jason. Note that this will take a while to complete."
      ]
    },
    {
      "cell_type": "code",
      "metadata": {
        "id": "CFJV1Elk71Mk"
      },
      "source": [
        "rover_file = 'gnss_raw_measurements_smartphone_motorbike.rnx'\n",
        "download_file(rover_file)\n",
        "result = jason.process(rover_file)"
      ],
      "execution_count": null,
      "outputs": []
    },
    {
      "cell_type": "markdown",
      "metadata": {
        "id": "VbAICQIzK9QG"
      },
      "source": [
        "Once the process finishes, we can proceed to extract the CSV file containing the solution computed by Jason"
      ]
    },
    {
      "cell_type": "code",
      "metadata": {
        "id": "mpKxA1Qcrtd1"
      },
      "source": [
        "with zipfile.ZipFile(os.path.basename(result), 'r') as zip_ref:\n",
        "    zip_ref.extractall('./')\n",
        "\n",
        "csv_file = f'SPP/{os.path.splitext(rover_file)[0]}.rnx_position_SPP.csv'"
      ],
      "execution_count": 21,
      "outputs": []
    },
    {
      "cell_type": "code",
      "metadata": {
        "id": "jY_jSILALRFF"
      },
      "source": [
        "# You can check the contents of the CSV file with the following code snippet\n",
        "with open(csv_file, 'r') as fh:\n",
        "  rows = csv.DictReader(fh)\n",
        "\n",
        "  track = [(row['latitude(deg)'], row['longitude(deg)']) for row in rows]\n",
        "\n",
        "# Display the first 10 samples\n",
        "track[:10]"
      ],
      "execution_count": null,
      "outputs": []
    },
    {
      "cell_type": "markdown",
      "metadata": {
        "id": "Zk4uvt4iLnQi"
      },
      "source": [
        "If the Jason process could not be completed, you can directly the precomputed file with these 2 instructions"
      ]
    },
    {
      "cell_type": "code",
      "metadata": {
        "id": "j-3jMVeTtgHp"
      },
      "source": [
        "#csv_file = 'gnss_raw_measurements_smartphone_motorbike_position_SPP.csv'\n",
        "#download_file(csv_file)"
      ],
      "execution_count": null,
      "outputs": []
    },
    {
      "cell_type": "markdown",
      "metadata": {
        "id": "s3rcfMMvLvQH"
      },
      "source": [
        "Proceed to load the contents of the CSV file with the positions within a Pandas DataFrame (`df`) and then store it into a Geopands DataFrame, which offers convenient methods to plot the data"
      ]
    },
    {
      "cell_type": "code",
      "metadata": {
        "id": "bbywhmL8Ls1V"
      },
      "source": [
        "df = pd.read_csv(csv_file)\n",
        "\n",
        "gdf_raw = gpd.GeoDataFrame(\n",
        "    df, geometry=gpd.points_from_xy(df['longitude(deg)'], df['latitude(deg)'], crs=\"WGS84\"))"
      ],
      "execution_count": 29,
      "outputs": []
    },
    {
      "cell_type": "code",
      "metadata": {
        "id": "3bRYRwXrA2ln"
      },
      "source": [
        "fig, ax = plt.subplots(1, 1)\n",
        "\n",
        "ax_raw = gdf_raw.plot(ax=ax)\n",
        "ctx.add_basemap(ax, crs=gdf_raw.crs, source=ctx.providers.OpenStreetMap.Mapnik)\n"
      ],
      "execution_count": null,
      "outputs": []
    },
    {
      "cell_type": "markdown",
      "metadata": {
        "id": "FGIu1dluMFLb"
      },
      "source": [
        "Now that we have the positions, we can proceed to use the MapBox API to perform the map-matching"
      ]
    },
    {
      "cell_type": "code",
      "metadata": {
        "id": "ihyahTZA-Wnj"
      },
      "source": [
        "segments = []\n",
        "\n",
        "for chunk in chunks(df, MAPBOX_MAX_N_POINTS):\n",
        "\n",
        "  points = zip(chunk['longitude(deg)'],chunk['latitude(deg)'])\n",
        "  track_for_mapbox_api = ';'.join([f'{p[0]},{p[1]}' for p in points])\n",
        "\n",
        "  url = f'https://api.mapbox.com/matching/v5/mapbox/driving/{track_for_mapbox_api}?access_token={MAPBOX_ACCESS_TOKEN}'\n",
        "  r = requests.get(url)\n",
        "  js = r.json() \n",
        "\n",
        "  segment_points = [shapely.geometry.Point(pt['location'][0], pt['location'][1]) for pt in js['tracepoints'] if pt]\n",
        "\n",
        "  segments.append(segment_points)\n",
        "\n",
        "points = []\n",
        "\n",
        "for segment in segments:\n",
        "  points += segment\n",
        "\n",
        "geometry = shapely.geometry.MultiPoint(points)"
      ],
      "execution_count": 31,
      "outputs": []
    },
    {
      "cell_type": "markdown",
      "metadata": {
        "id": "-5YbM62OOhr1"
      },
      "source": [
        "At this point we already have the map-matched positions and we can proceed to plot it and check the results"
      ]
    },
    {
      "cell_type": "code",
      "metadata": {
        "id": "o6n4Gwl5EiaM"
      },
      "source": [
        "gdf_snap = gpd.GeoSeries(geometry)"
      ],
      "execution_count": 32,
      "outputs": []
    },
    {
      "cell_type": "code",
      "metadata": {
        "id": "nW9p023GE8EM"
      },
      "source": [
        "fig, ax = plt.subplots(1, 1)\n",
        "ax_raw = gdf_raw.plot(ax=ax)\n",
        "ax_snap = gdf_snap.plot(color='red', ax=ax)\n",
        "ctx.add_basemap(ax, crs=gdf_raw.crs, source=ctx.providers.OpenStreetMap.Mapnik)\n"
      ],
      "execution_count": null,
      "outputs": []
    }
  ]
}